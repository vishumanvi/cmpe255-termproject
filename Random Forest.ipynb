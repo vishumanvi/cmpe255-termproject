{
 "cells": [
  {
   "cell_type": "code",
   "execution_count": 11,
   "metadata": {},
   "outputs": [],
   "source": [
    "import pickle\n",
    "from sklearn.svm import SVC\n",
    "import numpy as np\n",
    "import pandas as pd\n",
    "from os import listdir\n",
    "from os.path import isfile, join\n",
    "import matplotlib.pyplot as plt\n",
    "import math\n",
    "from sklearn.model_selection import train_test_split\n",
    "from sklearn.metrics import accuracy_score\n",
    "from sklearn.metrics import f1_score\n",
    "import time\n",
    "from sklearn.ensemble import RandomForestClassifier\n",
    "from sklearn.datasets import make_classification"
   ]
  },
  {
   "cell_type": "code",
   "execution_count": 2,
   "metadata": {},
   "outputs": [
    {
     "name": "stderr",
     "output_type": "stream",
     "text": [
      "/anaconda3/lib/python3.7/site-packages/IPython/core/interactiveshell.py:3020: DtypeWarning: Columns (1,2,3,4,5,6,7,8,9,10,11,12,13,14,15,16,17,18,19,20,21,22,23,24,25,26,27,28,29,30,31,32,33,34,35,36,37,38,39,40,41,42,43,44,45,46,47,48,49,50,51,52,53,54,55,56) have mixed types. Specify dtype option on import or set low_memory=False.\n",
      "  interactivity=interactivity, compiler=compiler, result=result)\n"
     ]
    }
   ],
   "source": [
    "df = pd.read_csv('reduced_data_after_interpolation.csv',header=None)"
   ]
  },
  {
   "cell_type": "code",
   "execution_count": 3,
   "metadata": {},
   "outputs": [
    {
     "data": {
      "text/html": [
       "<div>\n",
       "<style scoped>\n",
       "    .dataframe tbody tr th:only-of-type {\n",
       "        vertical-align: middle;\n",
       "    }\n",
       "\n",
       "    .dataframe tbody tr th {\n",
       "        vertical-align: top;\n",
       "    }\n",
       "\n",
       "    .dataframe thead th {\n",
       "        text-align: right;\n",
       "    }\n",
       "</style>\n",
       "<table border=\"1\" class=\"dataframe\">\n",
       "  <thead>\n",
       "    <tr style=\"text-align: right;\">\n",
       "      <th></th>\n",
       "      <th>0</th>\n",
       "      <th>1</th>\n",
       "      <th>2</th>\n",
       "      <th>3</th>\n",
       "      <th>4</th>\n",
       "      <th>5</th>\n",
       "      <th>6</th>\n",
       "      <th>7</th>\n",
       "      <th>8</th>\n",
       "      <th>9</th>\n",
       "      <th>...</th>\n",
       "      <th>47</th>\n",
       "      <th>48</th>\n",
       "      <th>49</th>\n",
       "      <th>50</th>\n",
       "      <th>51</th>\n",
       "      <th>52</th>\n",
       "      <th>53</th>\n",
       "      <th>54</th>\n",
       "      <th>55</th>\n",
       "      <th>56</th>\n",
       "    </tr>\n",
       "  </thead>\n",
       "  <tbody>\n",
       "    <tr>\n",
       "      <th>0</th>\n",
       "      <td>NaN</td>\n",
       "      <td>HeartRate</td>\n",
       "      <td>IMU_Hand_temperature</td>\n",
       "      <td>IMU_Hand_3D-acc_16g_1</td>\n",
       "      <td>IMU_Hand_3D-acc_16g_2</td>\n",
       "      <td>IMU_Hand_3D-acc_16g_3</td>\n",
       "      <td>IMU_Hand_3D-acc_6g_1</td>\n",
       "      <td>IMU_Hand_3D-acc_6g_2</td>\n",
       "      <td>IMU_Hand_3D-acc_6g_3</td>\n",
       "      <td>IMU_Hand_3D-gyroscope_1</td>\n",
       "      <td>...</td>\n",
       "      <td>IMU_Ankle_3D-magnetometer_2</td>\n",
       "      <td>IMU_Ankle_3D-magnetometer_3</td>\n",
       "      <td>IMU_Ankle_orientation_1</td>\n",
       "      <td>IMU_Ankle_orientation_2</td>\n",
       "      <td>IMU_Ankle_orientation_3</td>\n",
       "      <td>IMU_Ankle_orientation_4</td>\n",
       "      <td>Age(years)</td>\n",
       "      <td>Height(cm)</td>\n",
       "      <td>Weight(kg)</td>\n",
       "      <td>Resting HR(bpm)</td>\n",
       "    </tr>\n",
       "    <tr>\n",
       "      <th>1</th>\n",
       "      <td>0.0</td>\n",
       "      <td>84.0</td>\n",
       "      <td>33.8125</td>\n",
       "      <td>-9.64938</td>\n",
       "      <td>-1.6858400000000002</td>\n",
       "      <td>0.9788879999999999</td>\n",
       "      <td>-9.46791</td>\n",
       "      <td>-1.6807599999999998</td>\n",
       "      <td>1.1548</td>\n",
       "      <td>-0.00824009</td>\n",
       "      <td>...</td>\n",
       "      <td>37.8429</td>\n",
       "      <td>-17.4803</td>\n",
       "      <td>0.5517479999999999</td>\n",
       "      <td>0.371357</td>\n",
       "      <td>0.693585</td>\n",
       "      <td>0.276781</td>\n",
       "      <td>32</td>\n",
       "      <td>179</td>\n",
       "      <td>87</td>\n",
       "      <td>66</td>\n",
       "    </tr>\n",
       "    <tr>\n",
       "      <th>2</th>\n",
       "      <td>1.0</td>\n",
       "      <td>84.0</td>\n",
       "      <td>33.8125</td>\n",
       "      <td>-9.80348</td>\n",
       "      <td>-1.72328</td>\n",
       "      <td>0.899731</td>\n",
       "      <td>-9.46778</td>\n",
       "      <td>-1.7411</td>\n",
       "      <td>1.23043</td>\n",
       "      <td>0.0542927</td>\n",
       "      <td>...</td>\n",
       "      <td>38.6152</td>\n",
       "      <td>-17.9068</td>\n",
       "      <td>0.5516979999999999</td>\n",
       "      <td>0.37148400000000004</td>\n",
       "      <td>0.693471</td>\n",
       "      <td>0.276996</td>\n",
       "      <td>32</td>\n",
       "      <td>179</td>\n",
       "      <td>87</td>\n",
       "      <td>66</td>\n",
       "    </tr>\n",
       "    <tr>\n",
       "      <th>3</th>\n",
       "      <td>2.0</td>\n",
       "      <td>84.0</td>\n",
       "      <td>33.8125</td>\n",
       "      <td>-9.65232</td>\n",
       "      <td>-1.53509</td>\n",
       "      <td>0.862873</td>\n",
       "      <td>-9.468539999999999</td>\n",
       "      <td>-1.75627</td>\n",
       "      <td>1.15496</td>\n",
       "      <td>0.00032358</td>\n",
       "      <td>...</td>\n",
       "      <td>37.4857</td>\n",
       "      <td>-18.475</td>\n",
       "      <td>0.551888</td>\n",
       "      <td>0.371094</td>\n",
       "      <td>0.693512</td>\n",
       "      <td>0.277036</td>\n",
       "      <td>32</td>\n",
       "      <td>179</td>\n",
       "      <td>87</td>\n",
       "      <td>66</td>\n",
       "    </tr>\n",
       "    <tr>\n",
       "      <th>4</th>\n",
       "      <td>3.0</td>\n",
       "      <td>84.0</td>\n",
       "      <td>33.8125</td>\n",
       "      <td>-9.65045</td>\n",
       "      <td>-1.6482299999999999</td>\n",
       "      <td>0.940257</td>\n",
       "      <td>-9.49956</td>\n",
       "      <td>-1.7863200000000001</td>\n",
       "      <td>1.07956</td>\n",
       "      <td>0.00970056</td>\n",
       "      <td>...</td>\n",
       "      <td>38.7685</td>\n",
       "      <td>-18.3343</td>\n",
       "      <td>0.55183</td>\n",
       "      <td>0.371118</td>\n",
       "      <td>0.6934939999999999</td>\n",
       "      <td>0.277167</td>\n",
       "      <td>32</td>\n",
       "      <td>179</td>\n",
       "      <td>87</td>\n",
       "      <td>66</td>\n",
       "    </tr>\n",
       "  </tbody>\n",
       "</table>\n",
       "<p>5 rows × 57 columns</p>\n",
       "</div>"
      ],
      "text/plain": [
       "    0          1                     2                      3   \\\n",
       "0  NaN  HeartRate  IMU_Hand_temperature  IMU_Hand_3D-acc_16g_1   \n",
       "1  0.0       84.0               33.8125               -9.64938   \n",
       "2  1.0       84.0               33.8125               -9.80348   \n",
       "3  2.0       84.0               33.8125               -9.65232   \n",
       "4  3.0       84.0               33.8125               -9.65045   \n",
       "\n",
       "                      4                      5                     6   \\\n",
       "0  IMU_Hand_3D-acc_16g_2  IMU_Hand_3D-acc_16g_3  IMU_Hand_3D-acc_6g_1   \n",
       "1    -1.6858400000000002     0.9788879999999999              -9.46791   \n",
       "2               -1.72328               0.899731              -9.46778   \n",
       "3               -1.53509               0.862873    -9.468539999999999   \n",
       "4    -1.6482299999999999               0.940257              -9.49956   \n",
       "\n",
       "                     7                     8                        9   \\\n",
       "0  IMU_Hand_3D-acc_6g_2  IMU_Hand_3D-acc_6g_3  IMU_Hand_3D-gyroscope_1   \n",
       "1   -1.6807599999999998                1.1548              -0.00824009   \n",
       "2               -1.7411               1.23043                0.0542927   \n",
       "3              -1.75627               1.15496               0.00032358   \n",
       "4   -1.7863200000000001               1.07956               0.00970056   \n",
       "\n",
       "        ...                                  47                           48  \\\n",
       "0       ...         IMU_Ankle_3D-magnetometer_2  IMU_Ankle_3D-magnetometer_3   \n",
       "1       ...                             37.8429                     -17.4803   \n",
       "2       ...                             38.6152                     -17.9068   \n",
       "3       ...                             37.4857                      -18.475   \n",
       "4       ...                             38.7685                     -18.3343   \n",
       "\n",
       "                        49                       50                       51  \\\n",
       "0  IMU_Ankle_orientation_1  IMU_Ankle_orientation_2  IMU_Ankle_orientation_3   \n",
       "1       0.5517479999999999                 0.371357                 0.693585   \n",
       "2       0.5516979999999999      0.37148400000000004                 0.693471   \n",
       "3                 0.551888                 0.371094                 0.693512   \n",
       "4                  0.55183                 0.371118       0.6934939999999999   \n",
       "\n",
       "                        52          53          54          55  \\\n",
       "0  IMU_Ankle_orientation_4  Age(years)  Height(cm)  Weight(kg)   \n",
       "1                 0.276781          32         179          87   \n",
       "2                 0.276996          32         179          87   \n",
       "3                 0.277036          32         179          87   \n",
       "4                 0.277167          32         179          87   \n",
       "\n",
       "                56  \n",
       "0  Resting HR(bpm)  \n",
       "1               66  \n",
       "2               66  \n",
       "3               66  \n",
       "4               66  \n",
       "\n",
       "[5 rows x 57 columns]"
      ]
     },
     "execution_count": 3,
     "metadata": {},
     "output_type": "execute_result"
    }
   ],
   "source": [
    "df.head()"
   ]
  },
  {
   "cell_type": "code",
   "execution_count": 4,
   "metadata": {},
   "outputs": [],
   "source": [
    "labels = pd.read_csv(\"labels.csv\", header=None)"
   ]
  },
  {
   "cell_type": "code",
   "execution_count": 5,
   "metadata": {},
   "outputs": [
    {
     "data": {
      "text/html": [
       "<div>\n",
       "<style scoped>\n",
       "    .dataframe tbody tr th:only-of-type {\n",
       "        vertical-align: middle;\n",
       "    }\n",
       "\n",
       "    .dataframe tbody tr th {\n",
       "        vertical-align: top;\n",
       "    }\n",
       "\n",
       "    .dataframe thead th {\n",
       "        text-align: right;\n",
       "    }\n",
       "</style>\n",
       "<table border=\"1\" class=\"dataframe\">\n",
       "  <thead>\n",
       "    <tr style=\"text-align: right;\">\n",
       "      <th></th>\n",
       "      <th>0</th>\n",
       "      <th>1</th>\n",
       "    </tr>\n",
       "  </thead>\n",
       "  <tbody>\n",
       "    <tr>\n",
       "      <th>0</th>\n",
       "      <td>6147</td>\n",
       "      <td>1</td>\n",
       "    </tr>\n",
       "    <tr>\n",
       "      <th>1</th>\n",
       "      <td>6148</td>\n",
       "      <td>1</td>\n",
       "    </tr>\n",
       "    <tr>\n",
       "      <th>2</th>\n",
       "      <td>6149</td>\n",
       "      <td>1</td>\n",
       "    </tr>\n",
       "    <tr>\n",
       "      <th>3</th>\n",
       "      <td>6150</td>\n",
       "      <td>1</td>\n",
       "    </tr>\n",
       "    <tr>\n",
       "      <th>4</th>\n",
       "      <td>6151</td>\n",
       "      <td>1</td>\n",
       "    </tr>\n",
       "  </tbody>\n",
       "</table>\n",
       "</div>"
      ],
      "text/plain": [
       "      0  1\n",
       "0  6147  1\n",
       "1  6148  1\n",
       "2  6149  1\n",
       "3  6150  1\n",
       "4  6151  1"
      ]
     },
     "execution_count": 5,
     "metadata": {},
     "output_type": "execute_result"
    }
   ],
   "source": [
    "labels.head()"
   ]
  },
  {
   "cell_type": "code",
   "execution_count": 26,
   "metadata": {},
   "outputs": [],
   "source": [
    "final_df = df[df.columns[1:]][1:]"
   ]
  },
  {
   "cell_type": "code",
   "execution_count": 28,
   "metadata": {},
   "outputs": [],
   "source": [
    "final_labels = labels[labels.columns[1:]]"
   ]
  },
  {
   "cell_type": "code",
   "execution_count": 29,
   "metadata": {},
   "outputs": [
    {
     "data": {
      "text/html": [
       "<div>\n",
       "<style scoped>\n",
       "    .dataframe tbody tr th:only-of-type {\n",
       "        vertical-align: middle;\n",
       "    }\n",
       "\n",
       "    .dataframe tbody tr th {\n",
       "        vertical-align: top;\n",
       "    }\n",
       "\n",
       "    .dataframe thead th {\n",
       "        text-align: right;\n",
       "    }\n",
       "</style>\n",
       "<table border=\"1\" class=\"dataframe\">\n",
       "  <thead>\n",
       "    <tr style=\"text-align: right;\">\n",
       "      <th></th>\n",
       "      <th>1</th>\n",
       "    </tr>\n",
       "  </thead>\n",
       "  <tbody>\n",
       "    <tr>\n",
       "      <th>0</th>\n",
       "      <td>1</td>\n",
       "    </tr>\n",
       "    <tr>\n",
       "      <th>1</th>\n",
       "      <td>1</td>\n",
       "    </tr>\n",
       "    <tr>\n",
       "      <th>2</th>\n",
       "      <td>1</td>\n",
       "    </tr>\n",
       "    <tr>\n",
       "      <th>3</th>\n",
       "      <td>1</td>\n",
       "    </tr>\n",
       "    <tr>\n",
       "      <th>4</th>\n",
       "      <td>1</td>\n",
       "    </tr>\n",
       "  </tbody>\n",
       "</table>\n",
       "</div>"
      ],
      "text/plain": [
       "   1\n",
       "0  1\n",
       "1  1\n",
       "2  1\n",
       "3  1\n",
       "4  1"
      ]
     },
     "execution_count": 29,
     "metadata": {},
     "output_type": "execute_result"
    }
   ],
   "source": [
    "final_labels.head()"
   ]
  },
  {
   "cell_type": "code",
   "execution_count": 31,
   "metadata": {},
   "outputs": [
    {
     "name": "stdout",
     "output_type": "stream",
     "text": [
      "(1942872, 56)\n",
      "(1942872, 1)\n"
     ]
    }
   ],
   "source": [
    "print(final_df.shape)\n",
    "print(final_labels.shape)"
   ]
  },
  {
   "cell_type": "code",
   "execution_count": 32,
   "metadata": {},
   "outputs": [],
   "source": [
    "X_train, X_test, y_train, y_test = train_test_split(\n",
    "    final_df, final_labels, test_size=0.25, random_state=42)"
   ]
  },
  {
   "cell_type": "code",
   "execution_count": null,
   "metadata": {},
   "outputs": [],
   "source": []
  },
  {
   "cell_type": "code",
   "execution_count": 36,
   "metadata": {},
   "outputs": [],
   "source": [
    "random_forest_clf = RandomForestClassifier(n_estimators=100, max_depth=20, max_features='auto')"
   ]
  },
  {
   "cell_type": "code",
   "execution_count": 37,
   "metadata": {},
   "outputs": [
    {
     "name": "stderr",
     "output_type": "stream",
     "text": [
      "/anaconda3/lib/python3.7/site-packages/ipykernel_launcher.py:2: DataConversionWarning: A column-vector y was passed when a 1d array was expected. Please change the shape of y to (n_samples,), for example using ravel().\n",
      "  \n"
     ]
    },
    {
     "name": "stdout",
     "output_type": "stream",
     "text": [
      "1888.2069189548492\n"
     ]
    }
   ],
   "source": [
    "start = time.time()\n",
    "random_forest_clf.fit(X_train, y_train)\n",
    "end = time.time()\n",
    "print(end - start)"
   ]
  },
  {
   "cell_type": "code",
   "execution_count": 39,
   "metadata": {},
   "outputs": [
    {
     "name": "stdout",
     "output_type": "stream",
     "text": [
      "[0.09714366 0.07406636 0.02407842 0.00964035 0.01606895 0.02507375\n",
      " 0.00957579 0.01830129 0.00123857 0.00309319 0.00433098 0.02273829\n",
      " 0.00872306 0.01380604 0.00868984 0.00930495 0.00821534 0.00631687\n",
      " 0.0695666  0.00296058 0.01918785 0.0441665  0.0036653  0.02167529\n",
      " 0.04219297 0.00101595 0.00666849 0.00151693 0.01997125 0.04046763\n",
      " 0.03977485 0.02196142 0.01287071 0.01606829 0.01685592 0.04710317\n",
      " 0.01494798 0.0039038  0.00187855 0.01149373 0.00700098 0.00278132\n",
      " 0.00229467 0.00225289 0.00778973 0.02830088 0.00794143 0.02613884\n",
      " 0.01164823 0.01146522 0.01080429 0.01293977 0.0104365  0.01297462\n",
      " 0.01360154 0.01130961]\n"
     ]
    }
   ],
   "source": [
    "print(random_forest_clf.feature_importances_)"
   ]
  },
  {
   "cell_type": "code",
   "execution_count": 40,
   "metadata": {},
   "outputs": [],
   "source": [
    "predicted_values = random_forest_clf.predict(X_test)"
   ]
  },
  {
   "cell_type": "code",
   "execution_count": 41,
   "metadata": {},
   "outputs": [
    {
     "data": {
      "text/plain": [
       "0.999822649411405"
      ]
     },
     "execution_count": 41,
     "metadata": {},
     "output_type": "execute_result"
    }
   ],
   "source": [
    "f1_score(y_test, predicted_values, average='macro')"
   ]
  },
  {
   "cell_type": "code",
   "execution_count": 44,
   "metadata": {},
   "outputs": [],
   "source": [
    "import pickle\n",
    "pickle.dump(random_forest_clf, open(\"randomforest.pkl\", \"wb\"))"
   ]
  },
  {
   "cell_type": "code",
   "execution_count": null,
   "metadata": {},
   "outputs": [],
   "source": []
  }
 ],
 "metadata": {
  "kernelspec": {
   "display_name": "Python 3",
   "language": "python",
   "name": "python3"
  },
  "language_info": {
   "codemirror_mode": {
    "name": "ipython",
    "version": 3
   },
   "file_extension": ".py",
   "mimetype": "text/x-python",
   "name": "python",
   "nbconvert_exporter": "python",
   "pygments_lexer": "ipython3",
   "version": "3.7.1"
  }
 },
 "nbformat": 4,
 "nbformat_minor": 2
}
