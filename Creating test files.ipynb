{
 "cells": [
  {
   "cell_type": "code",
   "execution_count": 16,
   "metadata": {},
   "outputs": [],
   "source": [
    "import pickle\n",
    "from sklearn.svm import SVC\n",
    "import numpy as np\n",
    "import pandas as pd\n",
    "from os import listdir\n",
    "from os.path import isfile, join\n",
    "import matplotlib.pyplot as plt\n",
    "import math\n",
    "from sklearn.model_selection import train_test_split\n",
    "from sklearn.metrics import accuracy_score\n",
    "from sklearn.metrics import f1_score\n",
    "import time"
   ]
  },
  {
   "cell_type": "code",
   "execution_count": 17,
   "metadata": {},
   "outputs": [],
   "source": [
    "pca_df = pd.read_csv('preprocessed_data_PCA.csv',header=None)"
   ]
  },
  {
   "cell_type": "code",
   "execution_count": null,
   "metadata": {},
   "outputs": [],
   "source": [
    "normalized_pca_df=(pca_df-pca_df.mean())/pca_df.std()"
   ]
  },
  {
   "cell_type": "code",
   "execution_count": 3,
   "metadata": {},
   "outputs": [
    {
     "data": {
      "text/html": [
       "<div>\n",
       "<style scoped>\n",
       "    .dataframe tbody tr th:only-of-type {\n",
       "        vertical-align: middle;\n",
       "    }\n",
       "\n",
       "    .dataframe tbody tr th {\n",
       "        vertical-align: top;\n",
       "    }\n",
       "\n",
       "    .dataframe thead th {\n",
       "        text-align: right;\n",
       "    }\n",
       "</style>\n",
       "<table border=\"1\" class=\"dataframe\">\n",
       "  <thead>\n",
       "    <tr style=\"text-align: right;\">\n",
       "      <th></th>\n",
       "      <th>0</th>\n",
       "      <th>1</th>\n",
       "      <th>2</th>\n",
       "      <th>3</th>\n",
       "      <th>4</th>\n",
       "      <th>5</th>\n",
       "      <th>6</th>\n",
       "      <th>7</th>\n",
       "      <th>8</th>\n",
       "      <th>9</th>\n",
       "      <th>10</th>\n",
       "      <th>11</th>\n",
       "      <th>12</th>\n",
       "      <th>13</th>\n",
       "      <th>14</th>\n",
       "    </tr>\n",
       "  </thead>\n",
       "  <tbody>\n",
       "    <tr>\n",
       "      <th>0</th>\n",
       "      <td>0.915478</td>\n",
       "      <td>-29.708285</td>\n",
       "      <td>-18.567470</td>\n",
       "      <td>19.941870</td>\n",
       "      <td>10.040662</td>\n",
       "      <td>47.994886</td>\n",
       "      <td>22.602111</td>\n",
       "      <td>-26.405725</td>\n",
       "      <td>23.781513</td>\n",
       "      <td>-5.840281</td>\n",
       "      <td>-2.202161</td>\n",
       "      <td>9.618831</td>\n",
       "      <td>-7.817354</td>\n",
       "      <td>-2.326413</td>\n",
       "      <td>0.830279</td>\n",
       "    </tr>\n",
       "    <tr>\n",
       "      <th>1</th>\n",
       "      <td>0.501408</td>\n",
       "      <td>-29.982723</td>\n",
       "      <td>-18.356527</td>\n",
       "      <td>20.196495</td>\n",
       "      <td>9.906214</td>\n",
       "      <td>48.728084</td>\n",
       "      <td>22.441971</td>\n",
       "      <td>-26.463517</td>\n",
       "      <td>23.666009</td>\n",
       "      <td>-6.104951</td>\n",
       "      <td>-2.466416</td>\n",
       "      <td>9.324971</td>\n",
       "      <td>-7.529464</td>\n",
       "      <td>-2.212197</td>\n",
       "      <td>1.018723</td>\n",
       "    </tr>\n",
       "    <tr>\n",
       "      <th>2</th>\n",
       "      <td>0.672313</td>\n",
       "      <td>-30.011755</td>\n",
       "      <td>-18.285465</td>\n",
       "      <td>19.496385</td>\n",
       "      <td>10.125876</td>\n",
       "      <td>48.823792</td>\n",
       "      <td>23.462359</td>\n",
       "      <td>-25.295018</td>\n",
       "      <td>23.042888</td>\n",
       "      <td>-6.194817</td>\n",
       "      <td>-2.579618</td>\n",
       "      <td>8.755439</td>\n",
       "      <td>-7.158226</td>\n",
       "      <td>-1.902848</td>\n",
       "      <td>1.055714</td>\n",
       "    </tr>\n",
       "    <tr>\n",
       "      <th>3</th>\n",
       "      <td>0.057232</td>\n",
       "      <td>-29.760668</td>\n",
       "      <td>-18.074979</td>\n",
       "      <td>20.012192</td>\n",
       "      <td>9.574128</td>\n",
       "      <td>48.935205</td>\n",
       "      <td>22.873641</td>\n",
       "      <td>-26.585023</td>\n",
       "      <td>23.323926</td>\n",
       "      <td>-6.535679</td>\n",
       "      <td>-2.766648</td>\n",
       "      <td>8.991217</td>\n",
       "      <td>-6.957730</td>\n",
       "      <td>-2.020537</td>\n",
       "      <td>1.184568</td>\n",
       "    </tr>\n",
       "    <tr>\n",
       "      <th>4</th>\n",
       "      <td>0.910670</td>\n",
       "      <td>-29.695378</td>\n",
       "      <td>-18.205501</td>\n",
       "      <td>19.553513</td>\n",
       "      <td>9.788785</td>\n",
       "      <td>49.051764</td>\n",
       "      <td>22.605893</td>\n",
       "      <td>-27.023506</td>\n",
       "      <td>23.661876</td>\n",
       "      <td>-6.404352</td>\n",
       "      <td>-2.656896</td>\n",
       "      <td>9.327715</td>\n",
       "      <td>-7.326091</td>\n",
       "      <td>-2.264919</td>\n",
       "      <td>0.889200</td>\n",
       "    </tr>\n",
       "  </tbody>\n",
       "</table>\n",
       "</div>"
      ],
      "text/plain": [
       "         0          1          2          3          4          5          6   \\\n",
       "0  0.915478 -29.708285 -18.567470  19.941870  10.040662  47.994886  22.602111   \n",
       "1  0.501408 -29.982723 -18.356527  20.196495   9.906214  48.728084  22.441971   \n",
       "2  0.672313 -30.011755 -18.285465  19.496385  10.125876  48.823792  23.462359   \n",
       "3  0.057232 -29.760668 -18.074979  20.012192   9.574128  48.935205  22.873641   \n",
       "4  0.910670 -29.695378 -18.205501  19.553513   9.788785  49.051764  22.605893   \n",
       "\n",
       "          7          8         9         10        11        12        13  \\\n",
       "0 -26.405725  23.781513 -5.840281 -2.202161  9.618831 -7.817354 -2.326413   \n",
       "1 -26.463517  23.666009 -6.104951 -2.466416  9.324971 -7.529464 -2.212197   \n",
       "2 -25.295018  23.042888 -6.194817 -2.579618  8.755439 -7.158226 -1.902848   \n",
       "3 -26.585023  23.323926 -6.535679 -2.766648  8.991217 -6.957730 -2.020537   \n",
       "4 -27.023506  23.661876 -6.404352 -2.656896  9.327715 -7.326091 -2.264919   \n",
       "\n",
       "         14  \n",
       "0  0.830279  \n",
       "1  1.018723  \n",
       "2  1.055714  \n",
       "3  1.184568  \n",
       "4  0.889200  "
      ]
     },
     "execution_count": 3,
     "metadata": {},
     "output_type": "execute_result"
    }
   ],
   "source": [
    "normalized_pca_df.head()"
   ]
  },
  {
   "cell_type": "code",
   "execution_count": 4,
   "metadata": {},
   "outputs": [],
   "source": [
    "#normalized_df=(df-df.mean())/df.std()"
   ]
  },
  {
   "cell_type": "code",
   "execution_count": 18,
   "metadata": {},
   "outputs": [],
   "source": [
    "labels = pd.read_csv(\"labels.csv\", header=None)"
   ]
  },
  {
   "cell_type": "code",
   "execution_count": 19,
   "metadata": {},
   "outputs": [],
   "source": [
    "y = labels[1]"
   ]
  },
  {
   "cell_type": "code",
   "execution_count": 20,
   "metadata": {},
   "outputs": [],
   "source": [
    "labels.columns = ['index', 'activityId']"
   ]
  },
  {
   "cell_type": "code",
   "execution_count": 21,
   "metadata": {},
   "outputs": [],
   "source": [
    "joined_df = pd.concat([labels['activityId'], normalized_pca_df], axis=1)"
   ]
  },
  {
   "cell_type": "code",
   "execution_count": 22,
   "metadata": {},
   "outputs": [
    {
     "data": {
      "text/html": [
       "<div>\n",
       "<style scoped>\n",
       "    .dataframe tbody tr th:only-of-type {\n",
       "        vertical-align: middle;\n",
       "    }\n",
       "\n",
       "    .dataframe tbody tr th {\n",
       "        vertical-align: top;\n",
       "    }\n",
       "\n",
       "    .dataframe thead th {\n",
       "        text-align: right;\n",
       "    }\n",
       "</style>\n",
       "<table border=\"1\" class=\"dataframe\">\n",
       "  <thead>\n",
       "    <tr style=\"text-align: right;\">\n",
       "      <th></th>\n",
       "      <th>activityId</th>\n",
       "      <th>0</th>\n",
       "      <th>1</th>\n",
       "      <th>2</th>\n",
       "      <th>3</th>\n",
       "      <th>4</th>\n",
       "      <th>5</th>\n",
       "      <th>6</th>\n",
       "      <th>7</th>\n",
       "      <th>8</th>\n",
       "      <th>9</th>\n",
       "      <th>10</th>\n",
       "      <th>11</th>\n",
       "      <th>12</th>\n",
       "      <th>13</th>\n",
       "      <th>14</th>\n",
       "    </tr>\n",
       "  </thead>\n",
       "  <tbody>\n",
       "    <tr>\n",
       "      <th>0</th>\n",
       "      <td>1</td>\n",
       "      <td>0.915478</td>\n",
       "      <td>-29.708285</td>\n",
       "      <td>-18.567470</td>\n",
       "      <td>19.941870</td>\n",
       "      <td>10.040662</td>\n",
       "      <td>47.994886</td>\n",
       "      <td>22.602111</td>\n",
       "      <td>-26.405725</td>\n",
       "      <td>23.781513</td>\n",
       "      <td>-5.840281</td>\n",
       "      <td>-2.202161</td>\n",
       "      <td>9.618831</td>\n",
       "      <td>-7.817354</td>\n",
       "      <td>-2.326413</td>\n",
       "      <td>0.830279</td>\n",
       "    </tr>\n",
       "    <tr>\n",
       "      <th>1</th>\n",
       "      <td>1</td>\n",
       "      <td>0.501408</td>\n",
       "      <td>-29.982723</td>\n",
       "      <td>-18.356527</td>\n",
       "      <td>20.196495</td>\n",
       "      <td>9.906214</td>\n",
       "      <td>48.728084</td>\n",
       "      <td>22.441971</td>\n",
       "      <td>-26.463517</td>\n",
       "      <td>23.666009</td>\n",
       "      <td>-6.104951</td>\n",
       "      <td>-2.466416</td>\n",
       "      <td>9.324971</td>\n",
       "      <td>-7.529464</td>\n",
       "      <td>-2.212197</td>\n",
       "      <td>1.018723</td>\n",
       "    </tr>\n",
       "    <tr>\n",
       "      <th>2</th>\n",
       "      <td>1</td>\n",
       "      <td>0.672313</td>\n",
       "      <td>-30.011755</td>\n",
       "      <td>-18.285465</td>\n",
       "      <td>19.496385</td>\n",
       "      <td>10.125876</td>\n",
       "      <td>48.823792</td>\n",
       "      <td>23.462359</td>\n",
       "      <td>-25.295018</td>\n",
       "      <td>23.042888</td>\n",
       "      <td>-6.194817</td>\n",
       "      <td>-2.579618</td>\n",
       "      <td>8.755439</td>\n",
       "      <td>-7.158226</td>\n",
       "      <td>-1.902848</td>\n",
       "      <td>1.055714</td>\n",
       "    </tr>\n",
       "    <tr>\n",
       "      <th>3</th>\n",
       "      <td>1</td>\n",
       "      <td>0.057232</td>\n",
       "      <td>-29.760668</td>\n",
       "      <td>-18.074979</td>\n",
       "      <td>20.012192</td>\n",
       "      <td>9.574128</td>\n",
       "      <td>48.935205</td>\n",
       "      <td>22.873641</td>\n",
       "      <td>-26.585023</td>\n",
       "      <td>23.323926</td>\n",
       "      <td>-6.535679</td>\n",
       "      <td>-2.766648</td>\n",
       "      <td>8.991217</td>\n",
       "      <td>-6.957730</td>\n",
       "      <td>-2.020537</td>\n",
       "      <td>1.184568</td>\n",
       "    </tr>\n",
       "    <tr>\n",
       "      <th>4</th>\n",
       "      <td>1</td>\n",
       "      <td>0.910670</td>\n",
       "      <td>-29.695378</td>\n",
       "      <td>-18.205501</td>\n",
       "      <td>19.553513</td>\n",
       "      <td>9.788785</td>\n",
       "      <td>49.051764</td>\n",
       "      <td>22.605893</td>\n",
       "      <td>-27.023506</td>\n",
       "      <td>23.661876</td>\n",
       "      <td>-6.404352</td>\n",
       "      <td>-2.656896</td>\n",
       "      <td>9.327715</td>\n",
       "      <td>-7.326091</td>\n",
       "      <td>-2.264919</td>\n",
       "      <td>0.889200</td>\n",
       "    </tr>\n",
       "  </tbody>\n",
       "</table>\n",
       "</div>"
      ],
      "text/plain": [
       "   activityId         0          1          2          3          4  \\\n",
       "0           1  0.915478 -29.708285 -18.567470  19.941870  10.040662   \n",
       "1           1  0.501408 -29.982723 -18.356527  20.196495   9.906214   \n",
       "2           1  0.672313 -30.011755 -18.285465  19.496385  10.125876   \n",
       "3           1  0.057232 -29.760668 -18.074979  20.012192   9.574128   \n",
       "4           1  0.910670 -29.695378 -18.205501  19.553513   9.788785   \n",
       "\n",
       "           5          6          7          8         9        10        11  \\\n",
       "0  47.994886  22.602111 -26.405725  23.781513 -5.840281 -2.202161  9.618831   \n",
       "1  48.728084  22.441971 -26.463517  23.666009 -6.104951 -2.466416  9.324971   \n",
       "2  48.823792  23.462359 -25.295018  23.042888 -6.194817 -2.579618  8.755439   \n",
       "3  48.935205  22.873641 -26.585023  23.323926 -6.535679 -2.766648  8.991217   \n",
       "4  49.051764  22.605893 -27.023506  23.661876 -6.404352 -2.656896  9.327715   \n",
       "\n",
       "         12        13        14  \n",
       "0 -7.817354 -2.326413  0.830279  \n",
       "1 -7.529464 -2.212197  1.018723  \n",
       "2 -7.158226 -1.902848  1.055714  \n",
       "3 -6.957730 -2.020537  1.184568  \n",
       "4 -7.326091 -2.264919  0.889200  "
      ]
     },
     "execution_count": 22,
     "metadata": {},
     "output_type": "execute_result"
    }
   ],
   "source": [
    "joined_df.head()"
   ]
  },
  {
   "cell_type": "code",
   "execution_count": 23,
   "metadata": {},
   "outputs": [
    {
     "data": {
      "text/plain": [
       "4     238761\n",
       "17    238690\n",
       "1     192523\n",
       "3     189931\n",
       "7     188107\n",
       "2     185188\n",
       "16    175353\n",
       "6     164600\n",
       "12    117216\n",
       "13    104944\n",
       "5      98199\n",
       "24     49360\n",
       "Name: activityId, dtype: int64"
      ]
     },
     "execution_count": 23,
     "metadata": {},
     "output_type": "execute_result"
    }
   ],
   "source": [
    "joined_df['activityId'].value_counts()"
   ]
  },
  {
   "cell_type": "code",
   "execution_count": 25,
   "metadata": {},
   "outputs": [],
   "source": [
    "test_file = \"ActivityDatasets/PCA/test_pca_activity_\"\n",
    "test_label = \"ActivityDatasets/PCA/test_pca_label_\"\n",
    "\n",
    "for i in range(1, 25):\n",
    "    test_file = \"ActivityDatasets/PCA/test_pca_activity_\"+str(i)\n",
    "    test_label = \"ActivityDatasets/PCA/test_pca_label_\"+str(i)\n",
    "\n",
    "    temp = joined_df[joined_df['activityId']==i][:100]\n",
    "    if len(temp) > 50:\n",
    "        temp[temp.columns[1:]].to_csv(test_file+\".csv\", index=False, header = None)\n",
    "        temp['activityId'].to_csv(test_label+\".csv\", index=False, header = None)"
   ]
  },
  {
   "cell_type": "code",
   "execution_count": 1,
   "metadata": {},
   "outputs": [],
   "source": [
    "# joined_df[joined_df['activityId']==joined_df['activityId'].max()]"
   ]
  },
  {
   "cell_type": "code",
   "execution_count": 20,
   "metadata": {},
   "outputs": [],
   "source": [
    "# temp = joined_df[joined_df['activityId']==1][:20]"
   ]
  },
  {
   "cell_type": "code",
   "execution_count": 23,
   "metadata": {},
   "outputs": [],
   "source": [
    "# temp[temp.columns[1:]].to_csv(\"test_activity.csv\")"
   ]
  },
  {
   "cell_type": "code",
   "execution_count": 33,
   "metadata": {},
   "outputs": [],
   "source": [
    "# temp['activityId']"
   ]
  },
  {
   "cell_type": "code",
   "execution_count": 17,
   "metadata": {},
   "outputs": [],
   "source": [
    "# joined_df[joined_df.columns[1:]]"
   ]
  },
  {
   "cell_type": "code",
   "execution_count": 12,
   "metadata": {},
   "outputs": [],
   "source": [
    "svd_df = pd.read_csv('preprocessed_data_SVD.csv',header=None)"
   ]
  },
  {
   "cell_type": "code",
   "execution_count": 13,
   "metadata": {},
   "outputs": [],
   "source": [
    "svd_normalized_df=(svd_df-svd_df.mean())/svd_df.std()"
   ]
  },
  {
   "cell_type": "code",
   "execution_count": 14,
   "metadata": {},
   "outputs": [],
   "source": [
    "svd_joined_df = pd.concat([labels['activityId'], svd_df], axis=1)"
   ]
  },
  {
   "cell_type": "code",
   "execution_count": 15,
   "metadata": {},
   "outputs": [],
   "source": [
    "test_file = \"ActivityDatasets/SVD/test_svd_activity_\"\n",
    "test_label = \"ActivityDatasets/SVD/test_svd_label_\"\n",
    "\n",
    "for i in range(1, 25):\n",
    "    test_file = \"ActivityDatasets/SVD/test_svd_activity_\"+str(i)\n",
    "    test_label = \"ActivityDatasets/SVD/test_svd_label_\"+str(i)\n",
    "    temp = svd_joined_df[svd_joined_df['activityId']==i][:100]\n",
    "    if len(temp) > 50:\n",
    "        temp[temp.columns[1:]].to_csv(test_file+\".csv\", index=False, header = None)\n",
    "        temp['activityId'].to_csv(test_label+\".csv\", index=False, header = None)"
   ]
  },
  {
   "cell_type": "code",
   "execution_count": null,
   "metadata": {},
   "outputs": [],
   "source": []
  }
 ],
 "metadata": {
  "kernelspec": {
   "display_name": "Python 3",
   "language": "python",
   "name": "python3"
  },
  "language_info": {
   "codemirror_mode": {
    "name": "ipython",
    "version": 3
   },
   "file_extension": ".py",
   "mimetype": "text/x-python",
   "name": "python",
   "nbconvert_exporter": "python",
   "pygments_lexer": "ipython3",
   "version": "3.7.1"
  }
 },
 "nbformat": 4,
 "nbformat_minor": 2
}
