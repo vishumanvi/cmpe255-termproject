{
 "cells": [
  {
   "cell_type": "code",
   "execution_count": 6,
   "metadata": {},
   "outputs": [],
   "source": [
    "import pickle\n",
    "from sklearn.svm import SVC\n",
    "import numpy as np\n",
    "import pandas as pd\n",
    "from os import listdir\n",
    "from os.path import isfile, join\n",
    "import matplotlib.pyplot as plt\n",
    "import math\n",
    "from sklearn.model_selection import train_test_split\n",
    "from sklearn.metrics import accuracy_score\n",
    "from sklearn.metrics import f1_score\n",
    "import time"
   ]
  },
  {
   "cell_type": "code",
   "execution_count": 7,
   "metadata": {},
   "outputs": [],
   "source": [
    "df = pd.read_csv('preprocessed_data_PCA.csv',header=None)"
   ]
  },
  {
   "cell_type": "code",
   "execution_count": 8,
   "metadata": {},
   "outputs": [],
   "source": [
    "normalized_df=(df-df.mean())/df.std()"
   ]
  },
  {
   "cell_type": "code",
   "execution_count": 9,
   "metadata": {},
   "outputs": [],
   "source": [
    "labels = pd.read_csv(\"labels.csv\", header=None)"
   ]
  },
  {
   "cell_type": "code",
   "execution_count": 10,
   "metadata": {},
   "outputs": [],
   "source": [
    "y = labels[1]"
   ]
  },
  {
   "cell_type": "code",
   "execution_count": 11,
   "metadata": {},
   "outputs": [],
   "source": [
    "labels.columns = ['index', 'activityId']"
   ]
  },
  {
   "cell_type": "code",
   "execution_count": 12,
   "metadata": {},
   "outputs": [],
   "source": [
    "joined_df = pd.concat([labels['activityId'], normalized_df], axis=1)"
   ]
  },
  {
   "cell_type": "code",
   "execution_count": 13,
   "metadata": {},
   "outputs": [
    {
     "data": {
      "text/html": [
       "<div>\n",
       "<style scoped>\n",
       "    .dataframe tbody tr th:only-of-type {\n",
       "        vertical-align: middle;\n",
       "    }\n",
       "\n",
       "    .dataframe tbody tr th {\n",
       "        vertical-align: top;\n",
       "    }\n",
       "\n",
       "    .dataframe thead th {\n",
       "        text-align: right;\n",
       "    }\n",
       "</style>\n",
       "<table border=\"1\" class=\"dataframe\">\n",
       "  <thead>\n",
       "    <tr style=\"text-align: right;\">\n",
       "      <th></th>\n",
       "      <th>activityId</th>\n",
       "      <th>0</th>\n",
       "      <th>1</th>\n",
       "      <th>2</th>\n",
       "      <th>3</th>\n",
       "      <th>4</th>\n",
       "      <th>5</th>\n",
       "      <th>6</th>\n",
       "      <th>7</th>\n",
       "      <th>8</th>\n",
       "      <th>9</th>\n",
       "      <th>10</th>\n",
       "      <th>11</th>\n",
       "      <th>12</th>\n",
       "      <th>13</th>\n",
       "      <th>14</th>\n",
       "    </tr>\n",
       "  </thead>\n",
       "  <tbody>\n",
       "    <tr>\n",
       "      <th>0</th>\n",
       "      <td>1</td>\n",
       "      <td>0.023756</td>\n",
       "      <td>-0.994217</td>\n",
       "      <td>-0.750397</td>\n",
       "      <td>0.998290</td>\n",
       "      <td>0.531280</td>\n",
       "      <td>2.710502</td>\n",
       "      <td>1.527895</td>\n",
       "      <td>-1.862563</td>\n",
       "      <td>2.080869</td>\n",
       "      <td>-0.577647</td>\n",
       "      <td>-0.226874</td>\n",
       "      <td>1.032705</td>\n",
       "      <td>-0.950490</td>\n",
       "      <td>-0.306580</td>\n",
       "      <td>0.124180</td>\n",
       "    </tr>\n",
       "    <tr>\n",
       "      <th>1</th>\n",
       "      <td>1</td>\n",
       "      <td>0.013011</td>\n",
       "      <td>-1.003401</td>\n",
       "      <td>-0.741872</td>\n",
       "      <td>1.011036</td>\n",
       "      <td>0.524166</td>\n",
       "      <td>2.751909</td>\n",
       "      <td>1.517070</td>\n",
       "      <td>-1.866640</td>\n",
       "      <td>2.070763</td>\n",
       "      <td>-0.603825</td>\n",
       "      <td>-0.254099</td>\n",
       "      <td>1.001155</td>\n",
       "      <td>-0.915486</td>\n",
       "      <td>-0.291528</td>\n",
       "      <td>0.152367</td>\n",
       "    </tr>\n",
       "    <tr>\n",
       "      <th>2</th>\n",
       "      <td>1</td>\n",
       "      <td>0.017446</td>\n",
       "      <td>-1.004373</td>\n",
       "      <td>-0.739000</td>\n",
       "      <td>0.975989</td>\n",
       "      <td>0.535789</td>\n",
       "      <td>2.757314</td>\n",
       "      <td>1.586047</td>\n",
       "      <td>-1.784218</td>\n",
       "      <td>2.016240</td>\n",
       "      <td>-0.612713</td>\n",
       "      <td>-0.265761</td>\n",
       "      <td>0.940009</td>\n",
       "      <td>-0.870348</td>\n",
       "      <td>-0.250761</td>\n",
       "      <td>0.157899</td>\n",
       "    </tr>\n",
       "    <tr>\n",
       "      <th>3</th>\n",
       "      <td>1</td>\n",
       "      <td>0.001485</td>\n",
       "      <td>-0.995970</td>\n",
       "      <td>-0.730493</td>\n",
       "      <td>1.001810</td>\n",
       "      <td>0.506594</td>\n",
       "      <td>2.763606</td>\n",
       "      <td>1.546250</td>\n",
       "      <td>-1.875210</td>\n",
       "      <td>2.040831</td>\n",
       "      <td>-0.646427</td>\n",
       "      <td>-0.285029</td>\n",
       "      <td>0.965322</td>\n",
       "      <td>-0.845971</td>\n",
       "      <td>-0.266271</td>\n",
       "      <td>0.177173</td>\n",
       "    </tr>\n",
       "    <tr>\n",
       "      <th>4</th>\n",
       "      <td>1</td>\n",
       "      <td>0.023631</td>\n",
       "      <td>-0.993785</td>\n",
       "      <td>-0.735768</td>\n",
       "      <td>0.978849</td>\n",
       "      <td>0.517952</td>\n",
       "      <td>2.770189</td>\n",
       "      <td>1.528151</td>\n",
       "      <td>-1.906139</td>\n",
       "      <td>2.070401</td>\n",
       "      <td>-0.633438</td>\n",
       "      <td>-0.273722</td>\n",
       "      <td>1.001450</td>\n",
       "      <td>-0.890759</td>\n",
       "      <td>-0.298476</td>\n",
       "      <td>0.132994</td>\n",
       "    </tr>\n",
       "  </tbody>\n",
       "</table>\n",
       "</div>"
      ],
      "text/plain": [
       "   activityId         0         1         2         3         4         5  \\\n",
       "0           1  0.023756 -0.994217 -0.750397  0.998290  0.531280  2.710502   \n",
       "1           1  0.013011 -1.003401 -0.741872  1.011036  0.524166  2.751909   \n",
       "2           1  0.017446 -1.004373 -0.739000  0.975989  0.535789  2.757314   \n",
       "3           1  0.001485 -0.995970 -0.730493  1.001810  0.506594  2.763606   \n",
       "4           1  0.023631 -0.993785 -0.735768  0.978849  0.517952  2.770189   \n",
       "\n",
       "          6         7         8         9        10        11        12  \\\n",
       "0  1.527895 -1.862563  2.080869 -0.577647 -0.226874  1.032705 -0.950490   \n",
       "1  1.517070 -1.866640  2.070763 -0.603825 -0.254099  1.001155 -0.915486   \n",
       "2  1.586047 -1.784218  2.016240 -0.612713 -0.265761  0.940009 -0.870348   \n",
       "3  1.546250 -1.875210  2.040831 -0.646427 -0.285029  0.965322 -0.845971   \n",
       "4  1.528151 -1.906139  2.070401 -0.633438 -0.273722  1.001450 -0.890759   \n",
       "\n",
       "         13        14  \n",
       "0 -0.306580  0.124180  \n",
       "1 -0.291528  0.152367  \n",
       "2 -0.250761  0.157899  \n",
       "3 -0.266271  0.177173  \n",
       "4 -0.298476  0.132994  "
      ]
     },
     "execution_count": 13,
     "metadata": {},
     "output_type": "execute_result"
    }
   ],
   "source": [
    "joined_df.head()"
   ]
  },
  {
   "cell_type": "code",
   "execution_count": 32,
   "metadata": {},
   "outputs": [],
   "source": [
    "test_file = \"ActivityDatasets/test_pca_activity_\"\n",
    "test_label = \"ActivityDatasets/test_pca_label_\"\n",
    "\n",
    "for i in range(1, 25):\n",
    "    test_file = \"ActivityDatasets/test_pca_activity_\"+str(i)\n",
    "    test_label = \"ActivityDatasets/test_pca_label_\"+str(i)\n",
    "    temp = joined_df[joined_df['activityId']==i][:200]\n",
    "    temp[temp.columns[1:]].to_csv(test_file+\".csv\")\n",
    "    temp['activityId'].to_csv(test_label+\".csv\")"
   ]
  },
  {
   "cell_type": "code",
   "execution_count": 1,
   "metadata": {},
   "outputs": [],
   "source": [
    "# joined_df[joined_df['activityId']==joined_df['activityId'].max()]"
   ]
  },
  {
   "cell_type": "code",
   "execution_count": 20,
   "metadata": {},
   "outputs": [],
   "source": [
    "# temp = joined_df[joined_df['activityId']==1][:20]"
   ]
  },
  {
   "cell_type": "code",
   "execution_count": 23,
   "metadata": {},
   "outputs": [],
   "source": [
    "# temp[temp.columns[1:]].to_csv(\"test_activity.csv\")"
   ]
  },
  {
   "cell_type": "code",
   "execution_count": 33,
   "metadata": {},
   "outputs": [],
   "source": [
    "# temp['activityId']"
   ]
  },
  {
   "cell_type": "code",
   "execution_count": 17,
   "metadata": {},
   "outputs": [],
   "source": [
    "# joined_df[joined_df.columns[1:]]"
   ]
  },
  {
   "cell_type": "code",
   "execution_count": 34,
   "metadata": {},
   "outputs": [],
   "source": [
    "svd_df = pd.read_csv('preprocessed_data_SVD.csv',header=None)"
   ]
  },
  {
   "cell_type": "code",
   "execution_count": 35,
   "metadata": {},
   "outputs": [],
   "source": [
    "svd_normalized_df=(svd_df-svd_df.mean())/svd_df.std()"
   ]
  },
  {
   "cell_type": "code",
   "execution_count": 36,
   "metadata": {},
   "outputs": [],
   "source": [
    "svd_joined_df = pd.concat([labels['activityId'], svd_normalized_df], axis=1)"
   ]
  },
  {
   "cell_type": "code",
   "execution_count": 37,
   "metadata": {},
   "outputs": [],
   "source": [
    "test_file = \"ActivityDatasets/SVD/test_svd_activity_\"\n",
    "test_label = \"ActivityDatasets/SVD/test_svd_label_\"\n",
    "\n",
    "for i in range(1, 25):\n",
    "    test_file = \"ActivityDatasets/SVD/test_svd_activity_\"+str(i)\n",
    "    test_label = \"ActivityDatasets/SVD/test_svd_label_\"+str(i)\n",
    "    temp = svd_joined_df[svd_joined_df['activityId']==i][:200]\n",
    "    temp[temp.columns[1:]].to_csv(test_file+\".csv\")\n",
    "    temp['activityId'].to_csv(test_label+\".csv\")"
   ]
  },
  {
   "cell_type": "code",
   "execution_count": null,
   "metadata": {},
   "outputs": [],
   "source": []
  }
 ],
 "metadata": {
  "kernelspec": {
   "display_name": "Python 3",
   "language": "python",
   "name": "python3"
  },
  "language_info": {
   "codemirror_mode": {
    "name": "ipython",
    "version": 3
   },
   "file_extension": ".py",
   "mimetype": "text/x-python",
   "name": "python",
   "nbconvert_exporter": "python",
   "pygments_lexer": "ipython3",
   "version": "3.7.1"
  }
 },
 "nbformat": 4,
 "nbformat_minor": 2
}
