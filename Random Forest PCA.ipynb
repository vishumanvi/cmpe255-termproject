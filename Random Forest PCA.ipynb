{
 "cells": [
  {
   "cell_type": "code",
   "execution_count": 1,
   "metadata": {},
   "outputs": [],
   "source": [
    "import pickle\n",
    "from sklearn.svm import SVC\n",
    "import numpy as np\n",
    "import pandas as pd\n",
    "from os import listdir\n",
    "from os.path import isfile, join\n",
    "import matplotlib.pyplot as plt\n",
    "import math\n",
    "from sklearn.model_selection import train_test_split\n",
    "from sklearn.metrics import accuracy_score\n",
    "from sklearn.metrics import f1_score\n",
    "import time\n",
    "from sklearn.ensemble import RandomForestClassifier\n",
    "from sklearn.datasets import make_classification"
   ]
  },
  {
   "cell_type": "code",
   "execution_count": 2,
   "metadata": {},
   "outputs": [],
   "source": [
    "df = pd.read_csv('preprocessed_data_PCA.csv',header=None)"
   ]
  },
  {
   "cell_type": "code",
   "execution_count": 3,
   "metadata": {},
   "outputs": [
    {
     "data": {
      "text/html": [
       "<div>\n",
       "<style scoped>\n",
       "    .dataframe tbody tr th:only-of-type {\n",
       "        vertical-align: middle;\n",
       "    }\n",
       "\n",
       "    .dataframe tbody tr th {\n",
       "        vertical-align: top;\n",
       "    }\n",
       "\n",
       "    .dataframe thead th {\n",
       "        text-align: right;\n",
       "    }\n",
       "</style>\n",
       "<table border=\"1\" class=\"dataframe\">\n",
       "  <thead>\n",
       "    <tr style=\"text-align: right;\">\n",
       "      <th></th>\n",
       "      <th>0</th>\n",
       "      <th>1</th>\n",
       "      <th>2</th>\n",
       "      <th>3</th>\n",
       "      <th>4</th>\n",
       "      <th>5</th>\n",
       "      <th>6</th>\n",
       "      <th>7</th>\n",
       "      <th>8</th>\n",
       "      <th>9</th>\n",
       "      <th>10</th>\n",
       "      <th>11</th>\n",
       "      <th>12</th>\n",
       "      <th>13</th>\n",
       "      <th>14</th>\n",
       "    </tr>\n",
       "  </thead>\n",
       "  <tbody>\n",
       "    <tr>\n",
       "      <th>0</th>\n",
       "      <td>0.915478</td>\n",
       "      <td>-29.708285</td>\n",
       "      <td>-18.567470</td>\n",
       "      <td>19.941870</td>\n",
       "      <td>10.040662</td>\n",
       "      <td>47.994886</td>\n",
       "      <td>22.602111</td>\n",
       "      <td>-26.405725</td>\n",
       "      <td>23.781513</td>\n",
       "      <td>-5.840281</td>\n",
       "      <td>-2.202161</td>\n",
       "      <td>9.618831</td>\n",
       "      <td>-7.817354</td>\n",
       "      <td>-2.326413</td>\n",
       "      <td>0.830279</td>\n",
       "    </tr>\n",
       "    <tr>\n",
       "      <th>1</th>\n",
       "      <td>0.501408</td>\n",
       "      <td>-29.982723</td>\n",
       "      <td>-18.356527</td>\n",
       "      <td>20.196495</td>\n",
       "      <td>9.906214</td>\n",
       "      <td>48.728084</td>\n",
       "      <td>22.441971</td>\n",
       "      <td>-26.463517</td>\n",
       "      <td>23.666009</td>\n",
       "      <td>-6.104951</td>\n",
       "      <td>-2.466416</td>\n",
       "      <td>9.324971</td>\n",
       "      <td>-7.529464</td>\n",
       "      <td>-2.212197</td>\n",
       "      <td>1.018723</td>\n",
       "    </tr>\n",
       "    <tr>\n",
       "      <th>2</th>\n",
       "      <td>0.672313</td>\n",
       "      <td>-30.011755</td>\n",
       "      <td>-18.285465</td>\n",
       "      <td>19.496385</td>\n",
       "      <td>10.125876</td>\n",
       "      <td>48.823792</td>\n",
       "      <td>23.462359</td>\n",
       "      <td>-25.295018</td>\n",
       "      <td>23.042888</td>\n",
       "      <td>-6.194817</td>\n",
       "      <td>-2.579618</td>\n",
       "      <td>8.755439</td>\n",
       "      <td>-7.158226</td>\n",
       "      <td>-1.902848</td>\n",
       "      <td>1.055714</td>\n",
       "    </tr>\n",
       "    <tr>\n",
       "      <th>3</th>\n",
       "      <td>0.057232</td>\n",
       "      <td>-29.760668</td>\n",
       "      <td>-18.074979</td>\n",
       "      <td>20.012192</td>\n",
       "      <td>9.574128</td>\n",
       "      <td>48.935205</td>\n",
       "      <td>22.873641</td>\n",
       "      <td>-26.585023</td>\n",
       "      <td>23.323926</td>\n",
       "      <td>-6.535679</td>\n",
       "      <td>-2.766648</td>\n",
       "      <td>8.991217</td>\n",
       "      <td>-6.957730</td>\n",
       "      <td>-2.020537</td>\n",
       "      <td>1.184568</td>\n",
       "    </tr>\n",
       "    <tr>\n",
       "      <th>4</th>\n",
       "      <td>0.910670</td>\n",
       "      <td>-29.695378</td>\n",
       "      <td>-18.205501</td>\n",
       "      <td>19.553513</td>\n",
       "      <td>9.788785</td>\n",
       "      <td>49.051764</td>\n",
       "      <td>22.605893</td>\n",
       "      <td>-27.023506</td>\n",
       "      <td>23.661876</td>\n",
       "      <td>-6.404352</td>\n",
       "      <td>-2.656896</td>\n",
       "      <td>9.327715</td>\n",
       "      <td>-7.326091</td>\n",
       "      <td>-2.264919</td>\n",
       "      <td>0.889200</td>\n",
       "    </tr>\n",
       "  </tbody>\n",
       "</table>\n",
       "</div>"
      ],
      "text/plain": [
       "         0          1          2          3          4          5          6   \\\n",
       "0  0.915478 -29.708285 -18.567470  19.941870  10.040662  47.994886  22.602111   \n",
       "1  0.501408 -29.982723 -18.356527  20.196495   9.906214  48.728084  22.441971   \n",
       "2  0.672313 -30.011755 -18.285465  19.496385  10.125876  48.823792  23.462359   \n",
       "3  0.057232 -29.760668 -18.074979  20.012192   9.574128  48.935205  22.873641   \n",
       "4  0.910670 -29.695378 -18.205501  19.553513   9.788785  49.051764  22.605893   \n",
       "\n",
       "          7          8         9         10        11        12        13  \\\n",
       "0 -26.405725  23.781513 -5.840281 -2.202161  9.618831 -7.817354 -2.326413   \n",
       "1 -26.463517  23.666009 -6.104951 -2.466416  9.324971 -7.529464 -2.212197   \n",
       "2 -25.295018  23.042888 -6.194817 -2.579618  8.755439 -7.158226 -1.902848   \n",
       "3 -26.585023  23.323926 -6.535679 -2.766648  8.991217 -6.957730 -2.020537   \n",
       "4 -27.023506  23.661876 -6.404352 -2.656896  9.327715 -7.326091 -2.264919   \n",
       "\n",
       "         14  \n",
       "0  0.830279  \n",
       "1  1.018723  \n",
       "2  1.055714  \n",
       "3  1.184568  \n",
       "4  0.889200  "
      ]
     },
     "execution_count": 3,
     "metadata": {},
     "output_type": "execute_result"
    }
   ],
   "source": [
    "df.head()"
   ]
  },
  {
   "cell_type": "code",
   "execution_count": 4,
   "metadata": {},
   "outputs": [],
   "source": [
    "labels = pd.read_csv(\"labels.csv\", header=None)"
   ]
  },
  {
   "cell_type": "code",
   "execution_count": 5,
   "metadata": {},
   "outputs": [
    {
     "data": {
      "text/html": [
       "<div>\n",
       "<style scoped>\n",
       "    .dataframe tbody tr th:only-of-type {\n",
       "        vertical-align: middle;\n",
       "    }\n",
       "\n",
       "    .dataframe tbody tr th {\n",
       "        vertical-align: top;\n",
       "    }\n",
       "\n",
       "    .dataframe thead th {\n",
       "        text-align: right;\n",
       "    }\n",
       "</style>\n",
       "<table border=\"1\" class=\"dataframe\">\n",
       "  <thead>\n",
       "    <tr style=\"text-align: right;\">\n",
       "      <th></th>\n",
       "      <th>0</th>\n",
       "      <th>1</th>\n",
       "    </tr>\n",
       "  </thead>\n",
       "  <tbody>\n",
       "    <tr>\n",
       "      <th>0</th>\n",
       "      <td>6147</td>\n",
       "      <td>1</td>\n",
       "    </tr>\n",
       "    <tr>\n",
       "      <th>1</th>\n",
       "      <td>6148</td>\n",
       "      <td>1</td>\n",
       "    </tr>\n",
       "    <tr>\n",
       "      <th>2</th>\n",
       "      <td>6149</td>\n",
       "      <td>1</td>\n",
       "    </tr>\n",
       "    <tr>\n",
       "      <th>3</th>\n",
       "      <td>6150</td>\n",
       "      <td>1</td>\n",
       "    </tr>\n",
       "    <tr>\n",
       "      <th>4</th>\n",
       "      <td>6151</td>\n",
       "      <td>1</td>\n",
       "    </tr>\n",
       "  </tbody>\n",
       "</table>\n",
       "</div>"
      ],
      "text/plain": [
       "      0  1\n",
       "0  6147  1\n",
       "1  6148  1\n",
       "2  6149  1\n",
       "3  6150  1\n",
       "4  6151  1"
      ]
     },
     "execution_count": 5,
     "metadata": {},
     "output_type": "execute_result"
    }
   ],
   "source": [
    "labels.head()"
   ]
  },
  {
   "cell_type": "code",
   "execution_count": 6,
   "metadata": {},
   "outputs": [],
   "source": [
    "final_df = df[df.columns[:]][:]"
   ]
  },
  {
   "cell_type": "code",
   "execution_count": 7,
   "metadata": {},
   "outputs": [],
   "source": [
    "final_labels = labels[labels.columns[1:]]"
   ]
  },
  {
   "cell_type": "code",
   "execution_count": 8,
   "metadata": {},
   "outputs": [
    {
     "data": {
      "text/html": [
       "<div>\n",
       "<style scoped>\n",
       "    .dataframe tbody tr th:only-of-type {\n",
       "        vertical-align: middle;\n",
       "    }\n",
       "\n",
       "    .dataframe tbody tr th {\n",
       "        vertical-align: top;\n",
       "    }\n",
       "\n",
       "    .dataframe thead th {\n",
       "        text-align: right;\n",
       "    }\n",
       "</style>\n",
       "<table border=\"1\" class=\"dataframe\">\n",
       "  <thead>\n",
       "    <tr style=\"text-align: right;\">\n",
       "      <th></th>\n",
       "      <th>1</th>\n",
       "    </tr>\n",
       "  </thead>\n",
       "  <tbody>\n",
       "    <tr>\n",
       "      <th>0</th>\n",
       "      <td>1</td>\n",
       "    </tr>\n",
       "    <tr>\n",
       "      <th>1</th>\n",
       "      <td>1</td>\n",
       "    </tr>\n",
       "    <tr>\n",
       "      <th>2</th>\n",
       "      <td>1</td>\n",
       "    </tr>\n",
       "    <tr>\n",
       "      <th>3</th>\n",
       "      <td>1</td>\n",
       "    </tr>\n",
       "    <tr>\n",
       "      <th>4</th>\n",
       "      <td>1</td>\n",
       "    </tr>\n",
       "  </tbody>\n",
       "</table>\n",
       "</div>"
      ],
      "text/plain": [
       "   1\n",
       "0  1\n",
       "1  1\n",
       "2  1\n",
       "3  1\n",
       "4  1"
      ]
     },
     "execution_count": 8,
     "metadata": {},
     "output_type": "execute_result"
    }
   ],
   "source": [
    "final_labels.head()"
   ]
  },
  {
   "cell_type": "code",
   "execution_count": 9,
   "metadata": {},
   "outputs": [
    {
     "name": "stdout",
     "output_type": "stream",
     "text": [
      "(1942872, 15)\n",
      "(1942872, 1)\n"
     ]
    }
   ],
   "source": [
    "print(final_df.shape)\n",
    "print(final_labels.shape)"
   ]
  },
  {
   "cell_type": "code",
   "execution_count": 10,
   "metadata": {},
   "outputs": [],
   "source": [
    "final_df=(final_df-final_df.mean())/final_df.std()"
   ]
  },
  {
   "cell_type": "code",
   "execution_count": 11,
   "metadata": {},
   "outputs": [],
   "source": [
    "X_train, X_test, y_train, y_test = train_test_split(\n",
    "    final_df, final_labels, test_size=0.25, random_state=42)"
   ]
  },
  {
   "cell_type": "markdown",
   "metadata": {},
   "source": [
    "# resume here"
   ]
  },
  {
   "cell_type": "code",
   "execution_count": 12,
   "metadata": {},
   "outputs": [],
   "source": [
    "random_forest_clf = RandomForestClassifier(n_estimators=100, max_depth=20, max_features='auto')"
   ]
  },
  {
   "cell_type": "code",
   "execution_count": 13,
   "metadata": {},
   "outputs": [
    {
     "name": "stderr",
     "output_type": "stream",
     "text": [
      "/anaconda3/lib/python3.7/site-packages/ipykernel_launcher.py:2: DataConversionWarning: A column-vector y was passed when a 1d array was expected. Please change the shape of y to (n_samples,), for example using ravel().\n",
      "  \n"
     ]
    },
    {
     "name": "stdout",
     "output_type": "stream",
     "text": [
      "888.3648188114166\n"
     ]
    }
   ],
   "source": [
    "start = time.time()\n",
    "random_forest_clf.fit(X_train, y_train)\n",
    "end = time.time()\n",
    "print(end - start)"
   ]
  },
  {
   "cell_type": "code",
   "execution_count": 14,
   "metadata": {},
   "outputs": [
    {
     "name": "stdout",
     "output_type": "stream",
     "text": [
      "[0.18664049 0.09458699 0.09806712 0.06458115 0.08384975 0.06115176\n",
      " 0.07857349 0.06282173 0.0580057  0.04018611 0.03793371 0.03575675\n",
      " 0.03053352 0.03092878 0.03638296]\n"
     ]
    }
   ],
   "source": [
    "print(random_forest_clf.feature_importances_)"
   ]
  },
  {
   "cell_type": "code",
   "execution_count": 15,
   "metadata": {},
   "outputs": [],
   "source": [
    "predicted_values = random_forest_clf.predict(X_test)"
   ]
  },
  {
   "cell_type": "code",
   "execution_count": 16,
   "metadata": {},
   "outputs": [
    {
     "data": {
      "text/plain": [
       "0.9902667399144099"
      ]
     },
     "execution_count": 16,
     "metadata": {},
     "output_type": "execute_result"
    }
   ],
   "source": [
    "f1_score(y_test, predicted_values, average='macro')"
   ]
  },
  {
   "cell_type": "code",
   "execution_count": 17,
   "metadata": {},
   "outputs": [],
   "source": [
    "import pickle\n",
    "pickle.dump(random_forest_clf, open(\"RandomForest_PCA.pkl\", \"wb\"))"
   ]
  }
 ],
 "metadata": {
  "kernelspec": {
   "display_name": "Python 3",
   "language": "python",
   "name": "python3"
  },
  "language_info": {
   "codemirror_mode": {
    "name": "ipython",
    "version": 3
   },
   "file_extension": ".py",
   "mimetype": "text/x-python",
   "name": "python",
   "nbconvert_exporter": "python",
   "pygments_lexer": "ipython3",
   "version": "3.7.1"
  }
 },
 "nbformat": 4,
 "nbformat_minor": 2
}
