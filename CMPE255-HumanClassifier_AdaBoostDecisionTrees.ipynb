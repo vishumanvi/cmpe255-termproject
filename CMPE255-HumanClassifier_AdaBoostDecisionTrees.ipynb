{
 "cells": [
  {
   "cell_type": "code",
   "execution_count": 1,
   "metadata": {},
   "outputs": [],
   "source": [
    "import numpy as np\n",
    "import pandas as pd\n",
    "from os import listdir\n",
    "from os.path import isfile, join\n",
    "import matplotlib.pyplot as plt\n",
    "import math\n",
    "from sklearn.model_selection import train_test_split\n",
    "from sklearn.metrics import accuracy_score"
   ]
  },
  {
   "cell_type": "code",
   "execution_count": 21,
   "metadata": {},
   "outputs": [],
   "source": [
    "svd_df = pd.read_csv(\"preprocessed_data_SVD.csv\",header=None)\n",
    "pca_df = pd.read_csv(\"preprocessed_data_PCA.csv\",header=None)\n",
    "labels_df = pd.read_csv(\"labels.csv\", header=None)"
   ]
  },
  {
   "cell_type": "code",
   "execution_count": 22,
   "metadata": {},
   "outputs": [],
   "source": [
    "labels = labels_df.iloc[:,1]"
   ]
  },
  {
   "cell_type": "code",
   "execution_count": 23,
   "metadata": {},
   "outputs": [
    {
     "data": {
      "text/html": [
       "<div>\n",
       "<style scoped>\n",
       "    .dataframe tbody tr th:only-of-type {\n",
       "        vertical-align: middle;\n",
       "    }\n",
       "\n",
       "    .dataframe tbody tr th {\n",
       "        vertical-align: top;\n",
       "    }\n",
       "\n",
       "    .dataframe thead th {\n",
       "        text-align: right;\n",
       "    }\n",
       "</style>\n",
       "<table border=\"1\" class=\"dataframe\">\n",
       "  <thead>\n",
       "    <tr style=\"text-align: right;\">\n",
       "      <th></th>\n",
       "      <th>0</th>\n",
       "      <th>1</th>\n",
       "      <th>2</th>\n",
       "      <th>3</th>\n",
       "      <th>4</th>\n",
       "      <th>5</th>\n",
       "      <th>6</th>\n",
       "      <th>7</th>\n",
       "      <th>8</th>\n",
       "      <th>9</th>\n",
       "      <th>10</th>\n",
       "      <th>11</th>\n",
       "      <th>12</th>\n",
       "      <th>13</th>\n",
       "      <th>14</th>\n",
       "    </tr>\n",
       "  </thead>\n",
       "  <tbody>\n",
       "    <tr>\n",
       "      <th>0</th>\n",
       "      <td>241.065407</td>\n",
       "      <td>4.568325</td>\n",
       "      <td>-29.462353</td>\n",
       "      <td>-16.344498</td>\n",
       "      <td>21.554520</td>\n",
       "      <td>8.727630</td>\n",
       "      <td>46.992144</td>\n",
       "      <td>-21.437557</td>\n",
       "      <td>-27.379202</td>\n",
       "      <td>24.916987</td>\n",
       "      <td>-6.506860</td>\n",
       "      <td>4.952574</td>\n",
       "      <td>-9.031316</td>\n",
       "      <td>3.972765</td>\n",
       "      <td>-0.521677</td>\n",
       "    </tr>\n",
       "    <tr>\n",
       "      <th>1</th>\n",
       "      <td>241.005587</td>\n",
       "      <td>4.138426</td>\n",
       "      <td>-29.741656</td>\n",
       "      <td>-16.198781</td>\n",
       "      <td>21.835562</td>\n",
       "      <td>8.575280</td>\n",
       "      <td>47.714613</td>\n",
       "      <td>-21.275756</td>\n",
       "      <td>-27.438019</td>\n",
       "      <td>24.804485</td>\n",
       "      <td>-6.779410</td>\n",
       "      <td>4.581905</td>\n",
       "      <td>-8.762475</td>\n",
       "      <td>3.773299</td>\n",
       "      <td>-0.523821</td>\n",
       "    </tr>\n",
       "    <tr>\n",
       "      <th>2</th>\n",
       "      <td>241.073656</td>\n",
       "      <td>4.292379</td>\n",
       "      <td>-29.770200</td>\n",
       "      <td>-16.070736</td>\n",
       "      <td>21.125088</td>\n",
       "      <td>8.825954</td>\n",
       "      <td>47.850472</td>\n",
       "      <td>-22.349457</td>\n",
       "      <td>-26.336326</td>\n",
       "      <td>24.138650</td>\n",
       "      <td>-6.850718</td>\n",
       "      <td>4.128201</td>\n",
       "      <td>-8.337516</td>\n",
       "      <td>3.462832</td>\n",
       "      <td>-0.352323</td>\n",
       "    </tr>\n",
       "    <tr>\n",
       "      <th>3</th>\n",
       "      <td>240.909646</td>\n",
       "      <td>3.684386</td>\n",
       "      <td>-29.524516</td>\n",
       "      <td>-15.926641</td>\n",
       "      <td>21.675685</td>\n",
       "      <td>8.243264</td>\n",
       "      <td>47.916351</td>\n",
       "      <td>-21.702392</td>\n",
       "      <td>-27.591276</td>\n",
       "      <td>24.469207</td>\n",
       "      <td>-7.219079</td>\n",
       "      <td>4.170502</td>\n",
       "      <td>-8.284885</td>\n",
       "      <td>3.365185</td>\n",
       "      <td>-0.576131</td>\n",
       "    </tr>\n",
       "    <tr>\n",
       "      <th>4</th>\n",
       "      <td>241.038717</td>\n",
       "      <td>4.556688</td>\n",
       "      <td>-29.451037</td>\n",
       "      <td>-15.879348</td>\n",
       "      <td>21.266759</td>\n",
       "      <td>8.466058</td>\n",
       "      <td>48.033721</td>\n",
       "      <td>-21.416052</td>\n",
       "      <td>-28.020814</td>\n",
       "      <td>24.825513</td>\n",
       "      <td>-7.094547</td>\n",
       "      <td>4.461557</td>\n",
       "      <td>-8.635757</td>\n",
       "      <td>3.677593</td>\n",
       "      <td>-0.646860</td>\n",
       "    </tr>\n",
       "  </tbody>\n",
       "</table>\n",
       "</div>"
      ],
      "text/plain": [
       "           0         1          2          3          4         5          6   \\\n",
       "0  241.065407  4.568325 -29.462353 -16.344498  21.554520  8.727630  46.992144   \n",
       "1  241.005587  4.138426 -29.741656 -16.198781  21.835562  8.575280  47.714613   \n",
       "2  241.073656  4.292379 -29.770200 -16.070736  21.125088  8.825954  47.850472   \n",
       "3  240.909646  3.684386 -29.524516 -15.926641  21.675685  8.243264  47.916351   \n",
       "4  241.038717  4.556688 -29.451037 -15.879348  21.266759  8.466058  48.033721   \n",
       "\n",
       "          7          8          9         10        11        12        13  \\\n",
       "0 -21.437557 -27.379202  24.916987 -6.506860  4.952574 -9.031316  3.972765   \n",
       "1 -21.275756 -27.438019  24.804485 -6.779410  4.581905 -8.762475  3.773299   \n",
       "2 -22.349457 -26.336326  24.138650 -6.850718  4.128201 -8.337516  3.462832   \n",
       "3 -21.702392 -27.591276  24.469207 -7.219079  4.170502 -8.284885  3.365185   \n",
       "4 -21.416052 -28.020814  24.825513 -7.094547  4.461557 -8.635757  3.677593   \n",
       "\n",
       "         14  \n",
       "0 -0.521677  \n",
       "1 -0.523821  \n",
       "2 -0.352323  \n",
       "3 -0.576131  \n",
       "4 -0.646860  "
      ]
     },
     "execution_count": 23,
     "metadata": {},
     "output_type": "execute_result"
    }
   ],
   "source": [
    "svd_df.head()"
   ]
  },
  {
   "cell_type": "code",
   "execution_count": 5,
   "metadata": {},
   "outputs": [
    {
     "data": {
      "text/html": [
       "<div>\n",
       "<style scoped>\n",
       "    .dataframe tbody tr th:only-of-type {\n",
       "        vertical-align: middle;\n",
       "    }\n",
       "\n",
       "    .dataframe tbody tr th {\n",
       "        vertical-align: top;\n",
       "    }\n",
       "\n",
       "    .dataframe thead th {\n",
       "        text-align: right;\n",
       "    }\n",
       "</style>\n",
       "<table border=\"1\" class=\"dataframe\">\n",
       "  <thead>\n",
       "    <tr style=\"text-align: right;\">\n",
       "      <th></th>\n",
       "      <th>0</th>\n",
       "      <th>1</th>\n",
       "      <th>2</th>\n",
       "      <th>3</th>\n",
       "      <th>4</th>\n",
       "      <th>5</th>\n",
       "      <th>6</th>\n",
       "      <th>7</th>\n",
       "      <th>8</th>\n",
       "      <th>9</th>\n",
       "      <th>10</th>\n",
       "      <th>11</th>\n",
       "      <th>12</th>\n",
       "      <th>13</th>\n",
       "      <th>14</th>\n",
       "    </tr>\n",
       "  </thead>\n",
       "  <tbody>\n",
       "    <tr>\n",
       "      <th>0</th>\n",
       "      <td>0.915478</td>\n",
       "      <td>-29.708285</td>\n",
       "      <td>-18.567470</td>\n",
       "      <td>19.941870</td>\n",
       "      <td>10.040662</td>\n",
       "      <td>47.994886</td>\n",
       "      <td>22.602111</td>\n",
       "      <td>-26.405725</td>\n",
       "      <td>23.781513</td>\n",
       "      <td>-5.840281</td>\n",
       "      <td>-2.202161</td>\n",
       "      <td>9.618831</td>\n",
       "      <td>-7.817354</td>\n",
       "      <td>-2.326413</td>\n",
       "      <td>0.830279</td>\n",
       "    </tr>\n",
       "    <tr>\n",
       "      <th>1</th>\n",
       "      <td>0.501408</td>\n",
       "      <td>-29.982723</td>\n",
       "      <td>-18.356527</td>\n",
       "      <td>20.196495</td>\n",
       "      <td>9.906214</td>\n",
       "      <td>48.728084</td>\n",
       "      <td>22.441971</td>\n",
       "      <td>-26.463517</td>\n",
       "      <td>23.666009</td>\n",
       "      <td>-6.104951</td>\n",
       "      <td>-2.466416</td>\n",
       "      <td>9.324971</td>\n",
       "      <td>-7.529464</td>\n",
       "      <td>-2.212197</td>\n",
       "      <td>1.018723</td>\n",
       "    </tr>\n",
       "    <tr>\n",
       "      <th>2</th>\n",
       "      <td>0.672313</td>\n",
       "      <td>-30.011755</td>\n",
       "      <td>-18.285465</td>\n",
       "      <td>19.496385</td>\n",
       "      <td>10.125876</td>\n",
       "      <td>48.823792</td>\n",
       "      <td>23.462359</td>\n",
       "      <td>-25.295018</td>\n",
       "      <td>23.042888</td>\n",
       "      <td>-6.194817</td>\n",
       "      <td>-2.579618</td>\n",
       "      <td>8.755439</td>\n",
       "      <td>-7.158226</td>\n",
       "      <td>-1.902848</td>\n",
       "      <td>1.055714</td>\n",
       "    </tr>\n",
       "    <tr>\n",
       "      <th>3</th>\n",
       "      <td>0.057232</td>\n",
       "      <td>-29.760668</td>\n",
       "      <td>-18.074979</td>\n",
       "      <td>20.012192</td>\n",
       "      <td>9.574128</td>\n",
       "      <td>48.935205</td>\n",
       "      <td>22.873641</td>\n",
       "      <td>-26.585023</td>\n",
       "      <td>23.323926</td>\n",
       "      <td>-6.535679</td>\n",
       "      <td>-2.766648</td>\n",
       "      <td>8.991217</td>\n",
       "      <td>-6.957730</td>\n",
       "      <td>-2.020537</td>\n",
       "      <td>1.184568</td>\n",
       "    </tr>\n",
       "    <tr>\n",
       "      <th>4</th>\n",
       "      <td>0.910670</td>\n",
       "      <td>-29.695378</td>\n",
       "      <td>-18.205501</td>\n",
       "      <td>19.553513</td>\n",
       "      <td>9.788785</td>\n",
       "      <td>49.051764</td>\n",
       "      <td>22.605893</td>\n",
       "      <td>-27.023506</td>\n",
       "      <td>23.661876</td>\n",
       "      <td>-6.404352</td>\n",
       "      <td>-2.656896</td>\n",
       "      <td>9.327715</td>\n",
       "      <td>-7.326091</td>\n",
       "      <td>-2.264919</td>\n",
       "      <td>0.889200</td>\n",
       "    </tr>\n",
       "  </tbody>\n",
       "</table>\n",
       "</div>"
      ],
      "text/plain": [
       "         0          1          2          3          4          5          6   \\\n",
       "0  0.915478 -29.708285 -18.567470  19.941870  10.040662  47.994886  22.602111   \n",
       "1  0.501408 -29.982723 -18.356527  20.196495   9.906214  48.728084  22.441971   \n",
       "2  0.672313 -30.011755 -18.285465  19.496385  10.125876  48.823792  23.462359   \n",
       "3  0.057232 -29.760668 -18.074979  20.012192   9.574128  48.935205  22.873641   \n",
       "4  0.910670 -29.695378 -18.205501  19.553513   9.788785  49.051764  22.605893   \n",
       "\n",
       "          7          8         9         10        11        12        13  \\\n",
       "0 -26.405725  23.781513 -5.840281 -2.202161  9.618831 -7.817354 -2.326413   \n",
       "1 -26.463517  23.666009 -6.104951 -2.466416  9.324971 -7.529464 -2.212197   \n",
       "2 -25.295018  23.042888 -6.194817 -2.579618  8.755439 -7.158226 -1.902848   \n",
       "3 -26.585023  23.323926 -6.535679 -2.766648  8.991217 -6.957730 -2.020537   \n",
       "4 -27.023506  23.661876 -6.404352 -2.656896  9.327715 -7.326091 -2.264919   \n",
       "\n",
       "         14  \n",
       "0  0.830279  \n",
       "1  1.018723  \n",
       "2  1.055714  \n",
       "3  1.184568  \n",
       "4  0.889200  "
      ]
     },
     "execution_count": 5,
     "metadata": {},
     "output_type": "execute_result"
    }
   ],
   "source": [
    "pca_df.head()"
   ]
  },
  {
   "cell_type": "code",
   "execution_count": 6,
   "metadata": {},
   "outputs": [],
   "source": [
    "# Normalize PCA reduced values\n",
    "pca_df=(pca_df-pca_df.mean())/pca_df.std()"
   ]
  },
  {
   "cell_type": "code",
   "execution_count": 24,
   "metadata": {},
   "outputs": [],
   "source": [
    "svd_df=(svd_df-svd_df.mean())/svd_df.std()"
   ]
  },
  {
   "cell_type": "code",
   "execution_count": 25,
   "metadata": {},
   "outputs": [],
   "source": [
    "# Split SVD data\n",
    "X_train, X_test, y_train, y_test = train_test_split(\n",
    "    svd_df, labels, test_size=0.25, random_state=42)"
   ]
  },
  {
   "cell_type": "code",
   "execution_count": 7,
   "metadata": {},
   "outputs": [],
   "source": [
    "# Split PCA data\n",
    "X_train, X_test, y_train, y_test = train_test_split(\n",
    "    pca_df, labels, test_size=0.25, random_state=42)"
   ]
  },
  {
   "cell_type": "code",
   "execution_count": 26,
   "metadata": {},
   "outputs": [],
   "source": [
    "from sklearn.tree import DecisionTreeClassifier\n",
    "from sklearn.ensemble import AdaBoostClassifier"
   ]
  },
  {
   "cell_type": "code",
   "execution_count": 27,
   "metadata": {},
   "outputs": [
    {
     "name": "stdout",
     "output_type": "stream",
     "text": [
      "CPU times: user 1min 36s, sys: 792 ms, total: 1min 37s\n",
      "Wall time: 1min 38s\n"
     ]
    }
   ],
   "source": [
    "%%time\n",
    "# Fit regression model\n",
    "rng = np.random.RandomState(1)\n",
    "regr_abdt = AdaBoostClassifier(DecisionTreeClassifier())\n",
    "regr_abdt.fit(X_train, y_train)"
   ]
  },
  {
   "cell_type": "code",
   "execution_count": 28,
   "metadata": {},
   "outputs": [],
   "source": [
    "# Predict\n",
    "predicted_values = regr_abdt.predict(X_test)"
   ]
  },
  {
   "cell_type": "code",
   "execution_count": 29,
   "metadata": {},
   "outputs": [
    {
     "data": {
      "text/plain": [
       "1248855    24\n",
       "1595994    17\n",
       "348430     17\n",
       "11151       1\n",
       "1584520    17\n",
       "Name: 1, dtype: int64"
      ]
     },
     "execution_count": 29,
     "metadata": {},
     "output_type": "execute_result"
    }
   ],
   "source": [
    "y_train.head()"
   ]
  },
  {
   "cell_type": "code",
   "execution_count": 30,
   "metadata": {},
   "outputs": [
    {
     "data": {
      "text/plain": [
       "0.9776825236042312"
      ]
     },
     "execution_count": 30,
     "metadata": {},
     "output_type": "execute_result"
    }
   ],
   "source": [
    "# Get Accuracy Score\n",
    "accuracy_score(y_test, predicted_values)"
   ]
  },
  {
   "cell_type": "code",
   "execution_count": 31,
   "metadata": {},
   "outputs": [],
   "source": [
    "# Save Model\n",
    "import pickle\n",
    "pickle.dump(regr_abdt, open(\"Adaboost_SVD.pkl\", \"wb\"))"
   ]
  },
  {
   "cell_type": "code",
   "execution_count": null,
   "metadata": {},
   "outputs": [],
   "source": []
  }
 ],
 "metadata": {
  "kernelspec": {
   "display_name": "Python 3",
   "language": "python",
   "name": "python3"
  },
  "language_info": {
   "codemirror_mode": {
    "name": "ipython",
    "version": 3
   },
   "file_extension": ".py",
   "mimetype": "text/x-python",
   "name": "python",
   "nbconvert_exporter": "python",
   "pygments_lexer": "ipython3",
   "version": "3.7.1"
  }
 },
 "nbformat": 4,
 "nbformat_minor": 2
}
