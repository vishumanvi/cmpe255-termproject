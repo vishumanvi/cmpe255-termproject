{
 "cells": [
  {
   "cell_type": "code",
   "execution_count": 1,
   "metadata": {},
   "outputs": [],
   "source": [
    "import pickle\n",
    "from sklearn.svm import SVC\n",
    "import numpy as np\n",
    "import pandas as pd\n",
    "from os import listdir\n",
    "from os.path import isfile, join\n",
    "import matplotlib.pyplot as plt\n",
    "import math\n",
    "from sklearn.model_selection import train_test_split\n",
    "from sklearn.metrics import accuracy_score\n",
    "from sklearn.metrics import f1_score\n",
    "import time\n",
    "from sklearn.ensemble import RandomForestClassifier\n",
    "from sklearn.datasets import make_classification"
   ]
  },
  {
   "cell_type": "code",
   "execution_count": 2,
   "metadata": {},
   "outputs": [],
   "source": [
    "df = pd.read_csv('preprocessed_data_SVD.csv',header=None)"
   ]
  },
  {
   "cell_type": "code",
   "execution_count": 3,
   "metadata": {},
   "outputs": [
    {
     "data": {
      "text/html": [
       "<div>\n",
       "<style scoped>\n",
       "    .dataframe tbody tr th:only-of-type {\n",
       "        vertical-align: middle;\n",
       "    }\n",
       "\n",
       "    .dataframe tbody tr th {\n",
       "        vertical-align: top;\n",
       "    }\n",
       "\n",
       "    .dataframe thead th {\n",
       "        text-align: right;\n",
       "    }\n",
       "</style>\n",
       "<table border=\"1\" class=\"dataframe\">\n",
       "  <thead>\n",
       "    <tr style=\"text-align: right;\">\n",
       "      <th></th>\n",
       "      <th>0</th>\n",
       "      <th>1</th>\n",
       "      <th>2</th>\n",
       "      <th>3</th>\n",
       "      <th>4</th>\n",
       "      <th>5</th>\n",
       "      <th>6</th>\n",
       "      <th>7</th>\n",
       "      <th>8</th>\n",
       "      <th>9</th>\n",
       "      <th>10</th>\n",
       "      <th>11</th>\n",
       "      <th>12</th>\n",
       "      <th>13</th>\n",
       "      <th>14</th>\n",
       "    </tr>\n",
       "  </thead>\n",
       "  <tbody>\n",
       "    <tr>\n",
       "      <th>0</th>\n",
       "      <td>241.065407</td>\n",
       "      <td>4.568325</td>\n",
       "      <td>-29.462353</td>\n",
       "      <td>-16.344498</td>\n",
       "      <td>21.554520</td>\n",
       "      <td>8.727630</td>\n",
       "      <td>46.992144</td>\n",
       "      <td>-21.437557</td>\n",
       "      <td>-27.379202</td>\n",
       "      <td>24.916987</td>\n",
       "      <td>-6.506860</td>\n",
       "      <td>4.952574</td>\n",
       "      <td>-9.031316</td>\n",
       "      <td>3.972765</td>\n",
       "      <td>-0.521674</td>\n",
       "    </tr>\n",
       "    <tr>\n",
       "      <th>1</th>\n",
       "      <td>241.005587</td>\n",
       "      <td>4.138426</td>\n",
       "      <td>-29.741656</td>\n",
       "      <td>-16.198781</td>\n",
       "      <td>21.835562</td>\n",
       "      <td>8.575280</td>\n",
       "      <td>47.714613</td>\n",
       "      <td>-21.275756</td>\n",
       "      <td>-27.438019</td>\n",
       "      <td>24.804485</td>\n",
       "      <td>-6.779410</td>\n",
       "      <td>4.581905</td>\n",
       "      <td>-8.762475</td>\n",
       "      <td>3.773300</td>\n",
       "      <td>-0.523819</td>\n",
       "    </tr>\n",
       "    <tr>\n",
       "      <th>2</th>\n",
       "      <td>241.073656</td>\n",
       "      <td>4.292379</td>\n",
       "      <td>-29.770200</td>\n",
       "      <td>-16.070736</td>\n",
       "      <td>21.125088</td>\n",
       "      <td>8.825954</td>\n",
       "      <td>47.850472</td>\n",
       "      <td>-22.349457</td>\n",
       "      <td>-26.336326</td>\n",
       "      <td>24.138650</td>\n",
       "      <td>-6.850718</td>\n",
       "      <td>4.128201</td>\n",
       "      <td>-8.337516</td>\n",
       "      <td>3.462833</td>\n",
       "      <td>-0.352320</td>\n",
       "    </tr>\n",
       "    <tr>\n",
       "      <th>3</th>\n",
       "      <td>240.909646</td>\n",
       "      <td>3.684386</td>\n",
       "      <td>-29.524516</td>\n",
       "      <td>-15.926641</td>\n",
       "      <td>21.675685</td>\n",
       "      <td>8.243264</td>\n",
       "      <td>47.916351</td>\n",
       "      <td>-21.702392</td>\n",
       "      <td>-27.591276</td>\n",
       "      <td>24.469207</td>\n",
       "      <td>-7.219079</td>\n",
       "      <td>4.170502</td>\n",
       "      <td>-8.284885</td>\n",
       "      <td>3.365185</td>\n",
       "      <td>-0.576128</td>\n",
       "    </tr>\n",
       "    <tr>\n",
       "      <th>4</th>\n",
       "      <td>241.038717</td>\n",
       "      <td>4.556688</td>\n",
       "      <td>-29.451037</td>\n",
       "      <td>-15.879348</td>\n",
       "      <td>21.266759</td>\n",
       "      <td>8.466058</td>\n",
       "      <td>48.033721</td>\n",
       "      <td>-21.416052</td>\n",
       "      <td>-28.020814</td>\n",
       "      <td>24.825513</td>\n",
       "      <td>-7.094547</td>\n",
       "      <td>4.461557</td>\n",
       "      <td>-8.635757</td>\n",
       "      <td>3.677594</td>\n",
       "      <td>-0.646857</td>\n",
       "    </tr>\n",
       "  </tbody>\n",
       "</table>\n",
       "</div>"
      ],
      "text/plain": [
       "           0         1          2          3          4         5          6   \\\n",
       "0  241.065407  4.568325 -29.462353 -16.344498  21.554520  8.727630  46.992144   \n",
       "1  241.005587  4.138426 -29.741656 -16.198781  21.835562  8.575280  47.714613   \n",
       "2  241.073656  4.292379 -29.770200 -16.070736  21.125088  8.825954  47.850472   \n",
       "3  240.909646  3.684386 -29.524516 -15.926641  21.675685  8.243264  47.916351   \n",
       "4  241.038717  4.556688 -29.451037 -15.879348  21.266759  8.466058  48.033721   \n",
       "\n",
       "          7          8          9         10        11        12        13  \\\n",
       "0 -21.437557 -27.379202  24.916987 -6.506860  4.952574 -9.031316  3.972765   \n",
       "1 -21.275756 -27.438019  24.804485 -6.779410  4.581905 -8.762475  3.773300   \n",
       "2 -22.349457 -26.336326  24.138650 -6.850718  4.128201 -8.337516  3.462833   \n",
       "3 -21.702392 -27.591276  24.469207 -7.219079  4.170502 -8.284885  3.365185   \n",
       "4 -21.416052 -28.020814  24.825513 -7.094547  4.461557 -8.635757  3.677594   \n",
       "\n",
       "         14  \n",
       "0 -0.521674  \n",
       "1 -0.523819  \n",
       "2 -0.352320  \n",
       "3 -0.576128  \n",
       "4 -0.646857  "
      ]
     },
     "execution_count": 3,
     "metadata": {},
     "output_type": "execute_result"
    }
   ],
   "source": [
    "df.head()"
   ]
  },
  {
   "cell_type": "code",
   "execution_count": 4,
   "metadata": {},
   "outputs": [],
   "source": [
    "labels = pd.read_csv(\"labels.csv\", header=None)"
   ]
  },
  {
   "cell_type": "code",
   "execution_count": 5,
   "metadata": {},
   "outputs": [
    {
     "data": {
      "text/html": [
       "<div>\n",
       "<style scoped>\n",
       "    .dataframe tbody tr th:only-of-type {\n",
       "        vertical-align: middle;\n",
       "    }\n",
       "\n",
       "    .dataframe tbody tr th {\n",
       "        vertical-align: top;\n",
       "    }\n",
       "\n",
       "    .dataframe thead th {\n",
       "        text-align: right;\n",
       "    }\n",
       "</style>\n",
       "<table border=\"1\" class=\"dataframe\">\n",
       "  <thead>\n",
       "    <tr style=\"text-align: right;\">\n",
       "      <th></th>\n",
       "      <th>0</th>\n",
       "      <th>1</th>\n",
       "    </tr>\n",
       "  </thead>\n",
       "  <tbody>\n",
       "    <tr>\n",
       "      <th>0</th>\n",
       "      <td>6147</td>\n",
       "      <td>1</td>\n",
       "    </tr>\n",
       "    <tr>\n",
       "      <th>1</th>\n",
       "      <td>6148</td>\n",
       "      <td>1</td>\n",
       "    </tr>\n",
       "    <tr>\n",
       "      <th>2</th>\n",
       "      <td>6149</td>\n",
       "      <td>1</td>\n",
       "    </tr>\n",
       "    <tr>\n",
       "      <th>3</th>\n",
       "      <td>6150</td>\n",
       "      <td>1</td>\n",
       "    </tr>\n",
       "    <tr>\n",
       "      <th>4</th>\n",
       "      <td>6151</td>\n",
       "      <td>1</td>\n",
       "    </tr>\n",
       "  </tbody>\n",
       "</table>\n",
       "</div>"
      ],
      "text/plain": [
       "      0  1\n",
       "0  6147  1\n",
       "1  6148  1\n",
       "2  6149  1\n",
       "3  6150  1\n",
       "4  6151  1"
      ]
     },
     "execution_count": 5,
     "metadata": {},
     "output_type": "execute_result"
    }
   ],
   "source": [
    "labels.head()"
   ]
  },
  {
   "cell_type": "code",
   "execution_count": 6,
   "metadata": {},
   "outputs": [],
   "source": [
    "final_df = df[df.columns[:]][:]"
   ]
  },
  {
   "cell_type": "code",
   "execution_count": 7,
   "metadata": {},
   "outputs": [],
   "source": [
    "final_labels = labels[labels.columns[1:]]"
   ]
  },
  {
   "cell_type": "code",
   "execution_count": 8,
   "metadata": {},
   "outputs": [
    {
     "data": {
      "text/html": [
       "<div>\n",
       "<style scoped>\n",
       "    .dataframe tbody tr th:only-of-type {\n",
       "        vertical-align: middle;\n",
       "    }\n",
       "\n",
       "    .dataframe tbody tr th {\n",
       "        vertical-align: top;\n",
       "    }\n",
       "\n",
       "    .dataframe thead th {\n",
       "        text-align: right;\n",
       "    }\n",
       "</style>\n",
       "<table border=\"1\" class=\"dataframe\">\n",
       "  <thead>\n",
       "    <tr style=\"text-align: right;\">\n",
       "      <th></th>\n",
       "      <th>1</th>\n",
       "    </tr>\n",
       "  </thead>\n",
       "  <tbody>\n",
       "    <tr>\n",
       "      <th>0</th>\n",
       "      <td>1</td>\n",
       "    </tr>\n",
       "    <tr>\n",
       "      <th>1</th>\n",
       "      <td>1</td>\n",
       "    </tr>\n",
       "    <tr>\n",
       "      <th>2</th>\n",
       "      <td>1</td>\n",
       "    </tr>\n",
       "    <tr>\n",
       "      <th>3</th>\n",
       "      <td>1</td>\n",
       "    </tr>\n",
       "    <tr>\n",
       "      <th>4</th>\n",
       "      <td>1</td>\n",
       "    </tr>\n",
       "  </tbody>\n",
       "</table>\n",
       "</div>"
      ],
      "text/plain": [
       "   1\n",
       "0  1\n",
       "1  1\n",
       "2  1\n",
       "3  1\n",
       "4  1"
      ]
     },
     "execution_count": 8,
     "metadata": {},
     "output_type": "execute_result"
    }
   ],
   "source": [
    "final_labels.head()"
   ]
  },
  {
   "cell_type": "code",
   "execution_count": 9,
   "metadata": {},
   "outputs": [
    {
     "name": "stdout",
     "output_type": "stream",
     "text": [
      "(1942872, 15)\n",
      "(1942872, 1)\n"
     ]
    }
   ],
   "source": [
    "print(final_df.shape)\n",
    "print(final_labels.shape)"
   ]
  },
  {
   "cell_type": "code",
   "execution_count": 10,
   "metadata": {},
   "outputs": [],
   "source": [
    "X_train, X_test, y_train, y_test = train_test_split(\n",
    "    final_df, final_labels, test_size=0.25, random_state=42)"
   ]
  },
  {
   "cell_type": "markdown",
   "metadata": {},
   "source": [
    "# resume here"
   ]
  },
  {
   "cell_type": "code",
   "execution_count": 11,
   "metadata": {},
   "outputs": [],
   "source": [
    "random_forest_clf = RandomForestClassifier(n_estimators=100, max_depth=20, max_features='auto')"
   ]
  },
  {
   "cell_type": "code",
   "execution_count": 12,
   "metadata": {},
   "outputs": [
    {
     "name": "stderr",
     "output_type": "stream",
     "text": [
      "/anaconda3/lib/python3.7/site-packages/ipykernel_launcher.py:2: DataConversionWarning: A column-vector y was passed when a 1d array was expected. Please change the shape of y to (n_samples,), for example using ravel().\n",
      "  \n"
     ]
    },
    {
     "name": "stdout",
     "output_type": "stream",
     "text": [
      "960.9617233276367\n"
     ]
    }
   ],
   "source": [
    "start = time.time()\n",
    "random_forest_clf.fit(X_train, y_train)\n",
    "end = time.time()\n",
    "print(end - start)"
   ]
  },
  {
   "cell_type": "code",
   "execution_count": 13,
   "metadata": {},
   "outputs": [
    {
     "name": "stdout",
     "output_type": "stream",
     "text": [
      "[0.11163188 0.15277439 0.09084501 0.09440372 0.06023498 0.08172334\n",
      " 0.05796346 0.07832404 0.05946206 0.05505282 0.0358164  0.03568898\n",
      " 0.02981433 0.02665268 0.02961191]\n"
     ]
    }
   ],
   "source": [
    "print(random_forest_clf.feature_importances_)"
   ]
  },
  {
   "cell_type": "code",
   "execution_count": 14,
   "metadata": {},
   "outputs": [],
   "source": [
    "predicted_values = random_forest_clf.predict(X_test)"
   ]
  },
  {
   "cell_type": "code",
   "execution_count": 15,
   "metadata": {},
   "outputs": [
    {
     "data": {
      "text/plain": [
       "0.989144868197402"
      ]
     },
     "execution_count": 15,
     "metadata": {},
     "output_type": "execute_result"
    }
   ],
   "source": [
    "f1_score(y_test, predicted_values, average='macro')"
   ]
  },
  {
   "cell_type": "code",
   "execution_count": 16,
   "metadata": {},
   "outputs": [],
   "source": [
    "import pickle\n",
    "pickle.dump(random_forest_clf, open(\"randomforest_svd.pkl\", \"wb\"))"
   ]
  },
  {
   "cell_type": "code",
   "execution_count": null,
   "metadata": {},
   "outputs": [],
   "source": []
  },
  {
   "cell_type": "code",
   "execution_count": 18,
   "metadata": {},
   "outputs": [],
   "source": [
    "rf_svd_clf = pickle.load(open(\"ClassifiersPickleFiles/randomforest_svd.pkl\", \"rb\"))"
   ]
  },
  {
   "cell_type": "code",
   "execution_count": 87,
   "metadata": {},
   "outputs": [],
   "source": [
    "input = pd.read_csv(\"ActivityDatasets/SVD/test_svd_activity_8.csv\", index_col=0)"
   ]
  },
  {
   "cell_type": "code",
   "execution_count": 88,
   "metadata": {},
   "outputs": [
    {
     "ename": "EmptyDataError",
     "evalue": "No columns to parse from file",
     "output_type": "error",
     "traceback": [
      "\u001b[0;31m---------------------------------------------------------------------------\u001b[0m",
      "\u001b[0;31mEmptyDataError\u001b[0m                            Traceback (most recent call last)",
      "\u001b[0;32m<ipython-input-88-d573723550e8>\u001b[0m in \u001b[0;36m<module>\u001b[0;34m\u001b[0m\n\u001b[0;32m----> 1\u001b[0;31m \u001b[0mtest_labels\u001b[0m \u001b[0;34m=\u001b[0m \u001b[0mpd\u001b[0m\u001b[0;34m.\u001b[0m\u001b[0mread_csv\u001b[0m\u001b[0;34m(\u001b[0m\u001b[0;34m\"ActivityDatasets/SVD/test_svd_label_8.csv\"\u001b[0m\u001b[0;34m,\u001b[0m \u001b[0mindex_col\u001b[0m\u001b[0;34m=\u001b[0m\u001b[0;36m0\u001b[0m\u001b[0;34m,\u001b[0m \u001b[0mheader\u001b[0m\u001b[0;34m=\u001b[0m\u001b[0;32mNone\u001b[0m\u001b[0;34m)\u001b[0m\u001b[0;34m\u001b[0m\u001b[0;34m\u001b[0m\u001b[0m\n\u001b[0m",
      "\u001b[0;32m/anaconda3/lib/python3.7/site-packages/pandas/io/parsers.py\u001b[0m in \u001b[0;36mparser_f\u001b[0;34m(filepath_or_buffer, sep, delimiter, header, names, index_col, usecols, squeeze, prefix, mangle_dupe_cols, dtype, engine, converters, true_values, false_values, skipinitialspace, skiprows, nrows, na_values, keep_default_na, na_filter, verbose, skip_blank_lines, parse_dates, infer_datetime_format, keep_date_col, date_parser, dayfirst, iterator, chunksize, compression, thousands, decimal, lineterminator, quotechar, quoting, escapechar, comment, encoding, dialect, tupleize_cols, error_bad_lines, warn_bad_lines, skipfooter, doublequote, delim_whitespace, low_memory, memory_map, float_precision)\u001b[0m\n\u001b[1;32m    676\u001b[0m                     skip_blank_lines=skip_blank_lines)\n\u001b[1;32m    677\u001b[0m \u001b[0;34m\u001b[0m\u001b[0m\n\u001b[0;32m--> 678\u001b[0;31m         \u001b[0;32mreturn\u001b[0m \u001b[0m_read\u001b[0m\u001b[0;34m(\u001b[0m\u001b[0mfilepath_or_buffer\u001b[0m\u001b[0;34m,\u001b[0m \u001b[0mkwds\u001b[0m\u001b[0;34m)\u001b[0m\u001b[0;34m\u001b[0m\u001b[0;34m\u001b[0m\u001b[0m\n\u001b[0m\u001b[1;32m    679\u001b[0m \u001b[0;34m\u001b[0m\u001b[0m\n\u001b[1;32m    680\u001b[0m     \u001b[0mparser_f\u001b[0m\u001b[0;34m.\u001b[0m\u001b[0m__name__\u001b[0m \u001b[0;34m=\u001b[0m \u001b[0mname\u001b[0m\u001b[0;34m\u001b[0m\u001b[0;34m\u001b[0m\u001b[0m\n",
      "\u001b[0;32m/anaconda3/lib/python3.7/site-packages/pandas/io/parsers.py\u001b[0m in \u001b[0;36m_read\u001b[0;34m(filepath_or_buffer, kwds)\u001b[0m\n\u001b[1;32m    438\u001b[0m \u001b[0;34m\u001b[0m\u001b[0m\n\u001b[1;32m    439\u001b[0m     \u001b[0;31m# Create the parser.\u001b[0m\u001b[0;34m\u001b[0m\u001b[0;34m\u001b[0m\u001b[0;34m\u001b[0m\u001b[0m\n\u001b[0;32m--> 440\u001b[0;31m     \u001b[0mparser\u001b[0m \u001b[0;34m=\u001b[0m \u001b[0mTextFileReader\u001b[0m\u001b[0;34m(\u001b[0m\u001b[0mfilepath_or_buffer\u001b[0m\u001b[0;34m,\u001b[0m \u001b[0;34m**\u001b[0m\u001b[0mkwds\u001b[0m\u001b[0;34m)\u001b[0m\u001b[0;34m\u001b[0m\u001b[0;34m\u001b[0m\u001b[0m\n\u001b[0m\u001b[1;32m    441\u001b[0m \u001b[0;34m\u001b[0m\u001b[0m\n\u001b[1;32m    442\u001b[0m     \u001b[0;32mif\u001b[0m \u001b[0mchunksize\u001b[0m \u001b[0;32mor\u001b[0m \u001b[0miterator\u001b[0m\u001b[0;34m:\u001b[0m\u001b[0;34m\u001b[0m\u001b[0;34m\u001b[0m\u001b[0m\n",
      "\u001b[0;32m/anaconda3/lib/python3.7/site-packages/pandas/io/parsers.py\u001b[0m in \u001b[0;36m__init__\u001b[0;34m(self, f, engine, **kwds)\u001b[0m\n\u001b[1;32m    785\u001b[0m             \u001b[0mself\u001b[0m\u001b[0;34m.\u001b[0m\u001b[0moptions\u001b[0m\u001b[0;34m[\u001b[0m\u001b[0;34m'has_index_names'\u001b[0m\u001b[0;34m]\u001b[0m \u001b[0;34m=\u001b[0m \u001b[0mkwds\u001b[0m\u001b[0;34m[\u001b[0m\u001b[0;34m'has_index_names'\u001b[0m\u001b[0;34m]\u001b[0m\u001b[0;34m\u001b[0m\u001b[0;34m\u001b[0m\u001b[0m\n\u001b[1;32m    786\u001b[0m \u001b[0;34m\u001b[0m\u001b[0m\n\u001b[0;32m--> 787\u001b[0;31m         \u001b[0mself\u001b[0m\u001b[0;34m.\u001b[0m\u001b[0m_make_engine\u001b[0m\u001b[0;34m(\u001b[0m\u001b[0mself\u001b[0m\u001b[0;34m.\u001b[0m\u001b[0mengine\u001b[0m\u001b[0;34m)\u001b[0m\u001b[0;34m\u001b[0m\u001b[0;34m\u001b[0m\u001b[0m\n\u001b[0m\u001b[1;32m    788\u001b[0m \u001b[0;34m\u001b[0m\u001b[0m\n\u001b[1;32m    789\u001b[0m     \u001b[0;32mdef\u001b[0m \u001b[0mclose\u001b[0m\u001b[0;34m(\u001b[0m\u001b[0mself\u001b[0m\u001b[0;34m)\u001b[0m\u001b[0;34m:\u001b[0m\u001b[0;34m\u001b[0m\u001b[0;34m\u001b[0m\u001b[0m\n",
      "\u001b[0;32m/anaconda3/lib/python3.7/site-packages/pandas/io/parsers.py\u001b[0m in \u001b[0;36m_make_engine\u001b[0;34m(self, engine)\u001b[0m\n\u001b[1;32m   1012\u001b[0m     \u001b[0;32mdef\u001b[0m \u001b[0m_make_engine\u001b[0m\u001b[0;34m(\u001b[0m\u001b[0mself\u001b[0m\u001b[0;34m,\u001b[0m \u001b[0mengine\u001b[0m\u001b[0;34m=\u001b[0m\u001b[0;34m'c'\u001b[0m\u001b[0;34m)\u001b[0m\u001b[0;34m:\u001b[0m\u001b[0;34m\u001b[0m\u001b[0;34m\u001b[0m\u001b[0m\n\u001b[1;32m   1013\u001b[0m         \u001b[0;32mif\u001b[0m \u001b[0mengine\u001b[0m \u001b[0;34m==\u001b[0m \u001b[0;34m'c'\u001b[0m\u001b[0;34m:\u001b[0m\u001b[0;34m\u001b[0m\u001b[0;34m\u001b[0m\u001b[0m\n\u001b[0;32m-> 1014\u001b[0;31m             \u001b[0mself\u001b[0m\u001b[0;34m.\u001b[0m\u001b[0m_engine\u001b[0m \u001b[0;34m=\u001b[0m \u001b[0mCParserWrapper\u001b[0m\u001b[0;34m(\u001b[0m\u001b[0mself\u001b[0m\u001b[0;34m.\u001b[0m\u001b[0mf\u001b[0m\u001b[0;34m,\u001b[0m \u001b[0;34m**\u001b[0m\u001b[0mself\u001b[0m\u001b[0;34m.\u001b[0m\u001b[0moptions\u001b[0m\u001b[0;34m)\u001b[0m\u001b[0;34m\u001b[0m\u001b[0;34m\u001b[0m\u001b[0m\n\u001b[0m\u001b[1;32m   1015\u001b[0m         \u001b[0;32melse\u001b[0m\u001b[0;34m:\u001b[0m\u001b[0;34m\u001b[0m\u001b[0;34m\u001b[0m\u001b[0m\n\u001b[1;32m   1016\u001b[0m             \u001b[0;32mif\u001b[0m \u001b[0mengine\u001b[0m \u001b[0;34m==\u001b[0m \u001b[0;34m'python'\u001b[0m\u001b[0;34m:\u001b[0m\u001b[0;34m\u001b[0m\u001b[0;34m\u001b[0m\u001b[0m\n",
      "\u001b[0;32m/anaconda3/lib/python3.7/site-packages/pandas/io/parsers.py\u001b[0m in \u001b[0;36m__init__\u001b[0;34m(self, src, **kwds)\u001b[0m\n\u001b[1;32m   1706\u001b[0m         \u001b[0mkwds\u001b[0m\u001b[0;34m[\u001b[0m\u001b[0;34m'usecols'\u001b[0m\u001b[0;34m]\u001b[0m \u001b[0;34m=\u001b[0m \u001b[0mself\u001b[0m\u001b[0;34m.\u001b[0m\u001b[0musecols\u001b[0m\u001b[0;34m\u001b[0m\u001b[0;34m\u001b[0m\u001b[0m\n\u001b[1;32m   1707\u001b[0m \u001b[0;34m\u001b[0m\u001b[0m\n\u001b[0;32m-> 1708\u001b[0;31m         \u001b[0mself\u001b[0m\u001b[0;34m.\u001b[0m\u001b[0m_reader\u001b[0m \u001b[0;34m=\u001b[0m \u001b[0mparsers\u001b[0m\u001b[0;34m.\u001b[0m\u001b[0mTextReader\u001b[0m\u001b[0;34m(\u001b[0m\u001b[0msrc\u001b[0m\u001b[0;34m,\u001b[0m \u001b[0;34m**\u001b[0m\u001b[0mkwds\u001b[0m\u001b[0;34m)\u001b[0m\u001b[0;34m\u001b[0m\u001b[0;34m\u001b[0m\u001b[0m\n\u001b[0m\u001b[1;32m   1709\u001b[0m \u001b[0;34m\u001b[0m\u001b[0m\n\u001b[1;32m   1710\u001b[0m         \u001b[0mpassed_names\u001b[0m \u001b[0;34m=\u001b[0m \u001b[0mself\u001b[0m\u001b[0;34m.\u001b[0m\u001b[0mnames\u001b[0m \u001b[0;32mis\u001b[0m \u001b[0;32mNone\u001b[0m\u001b[0;34m\u001b[0m\u001b[0;34m\u001b[0m\u001b[0m\n",
      "\u001b[0;32mpandas/_libs/parsers.pyx\u001b[0m in \u001b[0;36mpandas._libs.parsers.TextReader.__cinit__\u001b[0;34m()\u001b[0m\n",
      "\u001b[0;31mEmptyDataError\u001b[0m: No columns to parse from file"
     ]
    }
   ],
   "source": [
    "test_labels = pd.read_csv(\"ActivityDatasets/SVD/test_svd_label_8.csv\", index_col=0, header=None)"
   ]
  },
  {
   "cell_type": "code",
   "execution_count": 77,
   "metadata": {},
   "outputs": [
    {
     "name": "stdout",
     "output_type": "stream",
     "text": [
      "(200, 15)\n",
      "(200, 1)\n"
     ]
    }
   ],
   "source": [
    "print(input.shape)\n",
    "print(test_labels.shape)"
   ]
  },
  {
   "cell_type": "code",
   "execution_count": 78,
   "metadata": {},
   "outputs": [
    {
     "data": {
      "text/html": [
       "<div>\n",
       "<style scoped>\n",
       "    .dataframe tbody tr th:only-of-type {\n",
       "        vertical-align: middle;\n",
       "    }\n",
       "\n",
       "    .dataframe tbody tr th {\n",
       "        vertical-align: top;\n",
       "    }\n",
       "\n",
       "    .dataframe thead th {\n",
       "        text-align: right;\n",
       "    }\n",
       "</style>\n",
       "<table border=\"1\" class=\"dataframe\">\n",
       "  <thead>\n",
       "    <tr style=\"text-align: right;\">\n",
       "      <th></th>\n",
       "      <th>0</th>\n",
       "      <th>1</th>\n",
       "      <th>2</th>\n",
       "      <th>3</th>\n",
       "      <th>4</th>\n",
       "      <th>5</th>\n",
       "      <th>6</th>\n",
       "      <th>7</th>\n",
       "      <th>8</th>\n",
       "      <th>9</th>\n",
       "      <th>10</th>\n",
       "      <th>11</th>\n",
       "      <th>12</th>\n",
       "      <th>13</th>\n",
       "      <th>14</th>\n",
       "    </tr>\n",
       "  </thead>\n",
       "  <tbody>\n",
       "    <tr>\n",
       "      <th>150868</th>\n",
       "      <td>253.878081</td>\n",
       "      <td>-26.486081</td>\n",
       "      <td>8.990373</td>\n",
       "      <td>12.912997</td>\n",
       "      <td>10.655940</td>\n",
       "      <td>-30.255372</td>\n",
       "      <td>-23.696729</td>\n",
       "      <td>-6.215104</td>\n",
       "      <td>-21.679630</td>\n",
       "      <td>2.494864</td>\n",
       "      <td>3.466078</td>\n",
       "      <td>5.520213</td>\n",
       "      <td>-13.912931</td>\n",
       "      <td>-1.522080</td>\n",
       "      <td>0.256222</td>\n",
       "    </tr>\n",
       "    <tr>\n",
       "      <th>150869</th>\n",
       "      <td>253.798641</td>\n",
       "      <td>-26.734581</td>\n",
       "      <td>9.169459</td>\n",
       "      <td>12.939340</td>\n",
       "      <td>10.363844</td>\n",
       "      <td>-30.664567</td>\n",
       "      <td>-23.680486</td>\n",
       "      <td>-6.604271</td>\n",
       "      <td>-21.132993</td>\n",
       "      <td>2.917075</td>\n",
       "      <td>3.582784</td>\n",
       "      <td>5.483417</td>\n",
       "      <td>-14.105979</td>\n",
       "      <td>-1.611725</td>\n",
       "      <td>0.506252</td>\n",
       "    </tr>\n",
       "    <tr>\n",
       "      <th>150870</th>\n",
       "      <td>253.773258</td>\n",
       "      <td>-26.388796</td>\n",
       "      <td>9.135950</td>\n",
       "      <td>12.916407</td>\n",
       "      <td>10.612123</td>\n",
       "      <td>-30.691864</td>\n",
       "      <td>-23.308145</td>\n",
       "      <td>-6.289836</td>\n",
       "      <td>-21.766421</td>\n",
       "      <td>3.479788</td>\n",
       "      <td>3.087758</td>\n",
       "      <td>5.443919</td>\n",
       "      <td>-14.084081</td>\n",
       "      <td>-1.426739</td>\n",
       "      <td>0.318274</td>\n",
       "    </tr>\n",
       "    <tr>\n",
       "      <th>150871</th>\n",
       "      <td>253.925507</td>\n",
       "      <td>-26.856305</td>\n",
       "      <td>9.319886</td>\n",
       "      <td>13.468711</td>\n",
       "      <td>10.398740</td>\n",
       "      <td>-30.066924</td>\n",
       "      <td>-23.832943</td>\n",
       "      <td>-6.081004</td>\n",
       "      <td>-21.120538</td>\n",
       "      <td>3.009631</td>\n",
       "      <td>3.189482</td>\n",
       "      <td>5.456307</td>\n",
       "      <td>-14.210558</td>\n",
       "      <td>-1.559282</td>\n",
       "      <td>0.521177</td>\n",
       "    </tr>\n",
       "    <tr>\n",
       "      <th>150872</th>\n",
       "      <td>253.791958</td>\n",
       "      <td>-26.422556</td>\n",
       "      <td>9.002761</td>\n",
       "      <td>12.901834</td>\n",
       "      <td>10.211579</td>\n",
       "      <td>-30.248522</td>\n",
       "      <td>-24.692294</td>\n",
       "      <td>-6.953146</td>\n",
       "      <td>-21.266650</td>\n",
       "      <td>2.829876</td>\n",
       "      <td>3.210783</td>\n",
       "      <td>5.273923</td>\n",
       "      <td>-14.244858</td>\n",
       "      <td>-1.525289</td>\n",
       "      <td>0.564027</td>\n",
       "    </tr>\n",
       "  </tbody>\n",
       "</table>\n",
       "</div>"
      ],
      "text/plain": [
       "                 0          1         2          3          4          5  \\\n",
       "150868  253.878081 -26.486081  8.990373  12.912997  10.655940 -30.255372   \n",
       "150869  253.798641 -26.734581  9.169459  12.939340  10.363844 -30.664567   \n",
       "150870  253.773258 -26.388796  9.135950  12.916407  10.612123 -30.691864   \n",
       "150871  253.925507 -26.856305  9.319886  13.468711  10.398740 -30.066924   \n",
       "150872  253.791958 -26.422556  9.002761  12.901834  10.211579 -30.248522   \n",
       "\n",
       "                6         7          8         9        10        11  \\\n",
       "150868 -23.696729 -6.215104 -21.679630  2.494864  3.466078  5.520213   \n",
       "150869 -23.680486 -6.604271 -21.132993  2.917075  3.582784  5.483417   \n",
       "150870 -23.308145 -6.289836 -21.766421  3.479788  3.087758  5.443919   \n",
       "150871 -23.832943 -6.081004 -21.120538  3.009631  3.189482  5.456307   \n",
       "150872 -24.692294 -6.953146 -21.266650  2.829876  3.210783  5.273923   \n",
       "\n",
       "               12        13        14  \n",
       "150868 -13.912931 -1.522080  0.256222  \n",
       "150869 -14.105979 -1.611725  0.506252  \n",
       "150870 -14.084081 -1.426739  0.318274  \n",
       "150871 -14.210558 -1.559282  0.521177  \n",
       "150872 -14.244858 -1.525289  0.564027  "
      ]
     },
     "execution_count": 78,
     "metadata": {},
     "output_type": "execute_result"
    }
   ],
   "source": [
    "input.head()"
   ]
  },
  {
   "cell_type": "code",
   "execution_count": 79,
   "metadata": {},
   "outputs": [
    {
     "data": {
      "text/html": [
       "<div>\n",
       "<style scoped>\n",
       "    .dataframe tbody tr th:only-of-type {\n",
       "        vertical-align: middle;\n",
       "    }\n",
       "\n",
       "    .dataframe tbody tr th {\n",
       "        vertical-align: top;\n",
       "    }\n",
       "\n",
       "    .dataframe thead th {\n",
       "        text-align: right;\n",
       "    }\n",
       "</style>\n",
       "<table border=\"1\" class=\"dataframe\">\n",
       "  <thead>\n",
       "    <tr style=\"text-align: right;\">\n",
       "      <th></th>\n",
       "      <th>1</th>\n",
       "    </tr>\n",
       "    <tr>\n",
       "      <th>0</th>\n",
       "      <th></th>\n",
       "    </tr>\n",
       "  </thead>\n",
       "  <tbody>\n",
       "    <tr>\n",
       "      <th>150868</th>\n",
       "      <td>4</td>\n",
       "    </tr>\n",
       "    <tr>\n",
       "      <th>150869</th>\n",
       "      <td>4</td>\n",
       "    </tr>\n",
       "    <tr>\n",
       "      <th>150870</th>\n",
       "      <td>4</td>\n",
       "    </tr>\n",
       "    <tr>\n",
       "      <th>150871</th>\n",
       "      <td>4</td>\n",
       "    </tr>\n",
       "    <tr>\n",
       "      <th>150872</th>\n",
       "      <td>4</td>\n",
       "    </tr>\n",
       "  </tbody>\n",
       "</table>\n",
       "</div>"
      ],
      "text/plain": [
       "        1\n",
       "0        \n",
       "150868  4\n",
       "150869  4\n",
       "150870  4\n",
       "150871  4\n",
       "150872  4"
      ]
     },
     "execution_count": 79,
     "metadata": {},
     "output_type": "execute_result"
    }
   ],
   "source": [
    "test_labels.head()"
   ]
  },
  {
   "cell_type": "code",
   "execution_count": 80,
   "metadata": {},
   "outputs": [],
   "source": [
    "test_predicted_values = random_forest_clf.predict(input)"
   ]
  },
  {
   "cell_type": "code",
   "execution_count": 81,
   "metadata": {},
   "outputs": [
    {
     "name": "stderr",
     "output_type": "stream",
     "text": [
      "/anaconda3/lib/python3.7/site-packages/sklearn/metrics/classification.py:1145: UndefinedMetricWarning: F-score is ill-defined and being set to 0.0 in labels with no true samples.\n",
      "  'recall', 'true', average, warn_for)\n"
     ]
    },
    {
     "data": {
      "text/plain": [
       "0.494949494949495"
      ]
     },
     "execution_count": 81,
     "metadata": {},
     "output_type": "execute_result"
    }
   ],
   "source": [
    "f1_score(test_labels, test_predicted_values, average='macro')"
   ]
  },
  {
   "cell_type": "code",
   "execution_count": 82,
   "metadata": {},
   "outputs": [
    {
     "data": {
      "text/plain": [
       "0.98"
      ]
     },
     "execution_count": 82,
     "metadata": {},
     "output_type": "execute_result"
    }
   ],
   "source": [
    "accuracy_score(test_labels, test_predicted_values)"
   ]
  },
  {
   "cell_type": "code",
   "execution_count": 89,
   "metadata": {},
   "outputs": [],
   "source": [
    "def check_rf_svd_accuracy():\n",
    "    for i in range(1,25):\n",
    "        if(i in [8,9,10,11,14,15,18,19,20,21,22,23]):\n",
    "            continue\n",
    "        input = pd.read_csv(\"ActivityDatasets/SVD/test_svd_activity_\"+str(i)+\".csv\", index_col=0)\n",
    "        test_labels = pd.read_csv(\"ActivityDatasets/SVD/test_svd_label_\"+str(i)+\".csv\", index_col=0, header=None)\n",
    "        test_predicted_values = random_forest_clf.predict(input)\n",
    "        print(\"Activity : \"+str(i))\n",
    "        print(\"F1 Score\")\n",
    "        print(f1_score(test_labels, test_predicted_values, average='macro'))\n",
    "        print(\"Accuracy Score\")\n",
    "        print(accuracy_score(test_labels, test_predicted_values))\n",
    "        print(\"\\n\")"
   ]
  },
  {
   "cell_type": "code",
   "execution_count": 90,
   "metadata": {},
   "outputs": [
    {
     "name": "stdout",
     "output_type": "stream",
     "text": [
      "Activity : 1\n",
      "F1 Score\n",
      "1.0\n",
      "Accuracy Score\n",
      "1.0\n",
      "\n",
      "\n",
      "Activity : 2\n",
      "F1 Score\n",
      "1.0\n",
      "Accuracy Score\n",
      "1.0\n",
      "\n",
      "\n",
      "Activity : 3\n",
      "F1 Score\n",
      "0.49748743718592964\n",
      "Accuracy Score\n",
      "0.99\n",
      "\n",
      "\n",
      "Activity : 4\n",
      "F1 Score\n",
      "0.494949494949495\n",
      "Accuracy Score\n",
      "0.98\n",
      "\n",
      "\n",
      "Activity : 5\n",
      "F1 Score\n",
      "1.0\n",
      "Accuracy Score\n",
      "1.0\n",
      "\n",
      "\n",
      "Activity : 6\n",
      "F1 Score\n",
      "1.0\n",
      "Accuracy Score\n",
      "1.0\n",
      "\n",
      "\n",
      "Activity : 7\n",
      "F1 Score\n",
      "1.0\n",
      "Accuracy Score\n",
      "1.0\n",
      "\n",
      "\n"
     ]
    },
    {
     "name": "stderr",
     "output_type": "stream",
     "text": [
      "/anaconda3/lib/python3.7/site-packages/sklearn/metrics/classification.py:1145: UndefinedMetricWarning: F-score is ill-defined and being set to 0.0 in labels with no true samples.\n",
      "  'recall', 'true', average, warn_for)\n",
      "/anaconda3/lib/python3.7/site-packages/sklearn/metrics/classification.py:1145: UndefinedMetricWarning: F-score is ill-defined and being set to 0.0 in labels with no true samples.\n",
      "  'recall', 'true', average, warn_for)\n"
     ]
    },
    {
     "name": "stdout",
     "output_type": "stream",
     "text": [
      "Activity : 12\n",
      "F1 Score\n",
      "1.0\n",
      "Accuracy Score\n",
      "1.0\n",
      "\n",
      "\n",
      "Activity : 13\n",
      "F1 Score\n",
      "0.494949494949495\n",
      "Accuracy Score\n",
      "0.98\n",
      "\n",
      "\n",
      "Activity : 16\n",
      "F1 Score\n",
      "1.0\n",
      "Accuracy Score\n",
      "1.0\n",
      "\n",
      "\n",
      "Activity : 17\n",
      "F1 Score\n",
      "0.46380697050938335\n",
      "Accuracy Score\n",
      "0.865\n",
      "\n",
      "\n",
      "Activity : 24\n",
      "F1 Score\n",
      "1.0\n",
      "Accuracy Score\n",
      "1.0\n",
      "\n",
      "\n"
     ]
    },
    {
     "name": "stderr",
     "output_type": "stream",
     "text": [
      "/anaconda3/lib/python3.7/site-packages/sklearn/metrics/classification.py:1145: UndefinedMetricWarning: F-score is ill-defined and being set to 0.0 in labels with no true samples.\n",
      "  'recall', 'true', average, warn_for)\n",
      "/anaconda3/lib/python3.7/site-packages/sklearn/metrics/classification.py:1145: UndefinedMetricWarning: F-score is ill-defined and being set to 0.0 in labels with no true samples.\n",
      "  'recall', 'true', average, warn_for)\n"
     ]
    }
   ],
   "source": [
    "check_rf_svd_accuracy()"
   ]
  },
  {
   "cell_type": "code",
   "execution_count": null,
   "metadata": {},
   "outputs": [],
   "source": []
  }
 ],
 "metadata": {
  "kernelspec": {
   "display_name": "Python 3",
   "language": "python",
   "name": "python3"
  },
  "language_info": {
   "codemirror_mode": {
    "name": "ipython",
    "version": 3
   },
   "file_extension": ".py",
   "mimetype": "text/x-python",
   "name": "python",
   "nbconvert_exporter": "python",
   "pygments_lexer": "ipython3",
   "version": "3.7.1"
  }
 },
 "nbformat": 4,
 "nbformat_minor": 2
}
