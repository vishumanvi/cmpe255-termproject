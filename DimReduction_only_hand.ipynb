{
 "cells": [
  {
   "cell_type": "code",
   "execution_count": 1,
   "metadata": {},
   "outputs": [],
   "source": [
    "import numpy as np\n",
    "import pandas as pd\n",
    "from os import listdir\n",
    "from os.path import isfile, join\n",
    "import matplotlib.pyplot as plt\n",
    "import math\n",
    "from sklearn.model_selection import train_test_split\n",
    "from sklearn.decomposition import TruncatedSVD\n",
    "from sklearn.decomposition import PCA\\"
   ]
  },
  {
   "cell_type": "code",
   "execution_count": 3,
   "metadata": {},
   "outputs": [],
   "source": [
    "preprocessed_df = pd.read_csv(\"Data/preprocessed_data.csv\")"
   ]
  },
  {
   "cell_type": "code",
   "execution_count": 5,
   "metadata": {},
   "outputs": [
    {
     "data": {
      "text/plain": [
       "Index(['Unnamed: 0', 'HeartRate', 'IMU_Hand_temperature',\n",
       "       'IMU_Hand_3D-acc_16g_1', 'IMU_Hand_3D-acc_16g_2',\n",
       "       'IMU_Hand_3D-acc_16g_3', 'IMU_Hand_3D-acc_6g_1', 'IMU_Hand_3D-acc_6g_2',\n",
       "       'IMU_Hand_3D-acc_6g_3', 'IMU_Hand_3D-gyroscope_1',\n",
       "       'IMU_Hand_3D-gyroscope_2', 'IMU_Hand_3D-gyroscope_3',\n",
       "       'IMU_Hand_3D-magnetometer_1', 'IMU_Hand_3D-magnetometer_2',\n",
       "       'IMU_Hand_3D-magnetometer_3', 'IMU_Hand_orientation_1',\n",
       "       'IMU_Hand_orientation_2', 'IMU_Hand_orientation_3',\n",
       "       'IMU_Hand_orientation_4', 'IMU_Chest_temperature',\n",
       "       'IMU_Chest_3D-acc_16g_1', 'IMU_Chest_3D-acc_16g_2',\n",
       "       'IMU_Chest_3D-acc_16g_3', 'IMU_Chest_3D-acc_6g_1',\n",
       "       'IMU_Chest_3D-acc_6g_2', 'IMU_Chest_3D-acc_6g_3',\n",
       "       'IMU_Chest_3D-gyroscope_1', 'IMU_Chest_3D-gyroscope_2',\n",
       "       'IMU_Chest_3D-gyroscope_3', 'IMU_Chest_3D-magnetometer_1',\n",
       "       'IMU_Chest_3D-magnetometer_2', 'IMU_Chest_3D-magnetometer_3',\n",
       "       'IMU_Chest_orientation_1', 'IMU_Chest_orientation_2',\n",
       "       'IMU_Chest_orientation_3', 'IMU_Chest_orientation_4',\n",
       "       'IMU_Ankle_temperature', 'IMU_Ankle_3D-acc_16g_1',\n",
       "       'IMU_Ankle_3D-acc_16g_2', 'IMU_Ankle_3D-acc_16g_3',\n",
       "       'IMU_Ankle_3D-acc_6g_1', 'IMU_Ankle_3D-acc_6g_2',\n",
       "       'IMU_Ankle_3D-acc_6g_3', 'IMU_Ankle_3D-gyroscope_1',\n",
       "       'IMU_Ankle_3D-gyroscope_2', 'IMU_Ankle_3D-gyroscope_3',\n",
       "       'IMU_Ankle_3D-magnetometer_1', 'IMU_Ankle_3D-magnetometer_2',\n",
       "       'IMU_Ankle_3D-magnetometer_3', 'IMU_Ankle_orientation_1',\n",
       "       'IMU_Ankle_orientation_2', 'IMU_Ankle_orientation_3',\n",
       "       'IMU_Ankle_orientation_4', 'Age(years)', 'Height(cm)', 'Weight(kg)',\n",
       "       'Resting HR(bpm)'],\n",
       "      dtype='object')"
      ]
     },
     "execution_count": 5,
     "metadata": {},
     "output_type": "execute_result"
    }
   ],
   "source": [
    "preprocessed_df.columns"
   ]
  },
  {
   "cell_type": "code",
   "execution_count": 6,
   "metadata": {},
   "outputs": [],
   "source": [
    "preprocessed_df = preprocessed_df.drop(['Unnamed: 0','IMU_Chest_temperature',\n",
    "       'IMU_Chest_3D-acc_16g_1', 'IMU_Chest_3D-acc_16g_2',\n",
    "       'IMU_Chest_3D-acc_16g_3', 'IMU_Chest_3D-acc_6g_1',\n",
    "       'IMU_Chest_3D-acc_6g_2', 'IMU_Chest_3D-acc_6g_3',\n",
    "       'IMU_Chest_3D-gyroscope_1', 'IMU_Chest_3D-gyroscope_2',\n",
    "       'IMU_Chest_3D-gyroscope_3', 'IMU_Chest_3D-magnetometer_1',\n",
    "       'IMU_Chest_3D-magnetometer_2', 'IMU_Chest_3D-magnetometer_3',\n",
    "       'IMU_Chest_orientation_1', 'IMU_Chest_orientation_2',\n",
    "       'IMU_Chest_orientation_3', 'IMU_Chest_orientation_4',\n",
    "       'IMU_Ankle_temperature', 'IMU_Ankle_3D-acc_16g_1',\n",
    "       'IMU_Ankle_3D-acc_16g_2', 'IMU_Ankle_3D-acc_16g_3',\n",
    "       'IMU_Ankle_3D-acc_6g_1', 'IMU_Ankle_3D-acc_6g_2',\n",
    "       'IMU_Ankle_3D-acc_6g_3', 'IMU_Ankle_3D-gyroscope_1',\n",
    "       'IMU_Ankle_3D-gyroscope_2', 'IMU_Ankle_3D-gyroscope_3',\n",
    "       'IMU_Ankle_3D-magnetometer_1', 'IMU_Ankle_3D-magnetometer_2',\n",
    "       'IMU_Ankle_3D-magnetometer_3', 'IMU_Ankle_orientation_1',\n",
    "       'IMU_Ankle_orientation_2', 'IMU_Ankle_orientation_3',\n",
    "       'IMU_Ankle_orientation_4'], axis=1)"
   ]
  },
  {
   "cell_type": "code",
   "execution_count": 7,
   "metadata": {},
   "outputs": [
    {
     "data": {
      "text/html": [
       "<div>\n",
       "<style scoped>\n",
       "    .dataframe tbody tr th:only-of-type {\n",
       "        vertical-align: middle;\n",
       "    }\n",
       "\n",
       "    .dataframe tbody tr th {\n",
       "        vertical-align: top;\n",
       "    }\n",
       "\n",
       "    .dataframe thead th {\n",
       "        text-align: right;\n",
       "    }\n",
       "</style>\n",
       "<table border=\"1\" class=\"dataframe\">\n",
       "  <thead>\n",
       "    <tr style=\"text-align: right;\">\n",
       "      <th></th>\n",
       "      <th>HeartRate</th>\n",
       "      <th>IMU_Hand_temperature</th>\n",
       "      <th>IMU_Hand_3D-acc_16g_1</th>\n",
       "      <th>IMU_Hand_3D-acc_16g_2</th>\n",
       "      <th>IMU_Hand_3D-acc_16g_3</th>\n",
       "      <th>IMU_Hand_3D-acc_6g_1</th>\n",
       "      <th>IMU_Hand_3D-acc_6g_2</th>\n",
       "      <th>IMU_Hand_3D-acc_6g_3</th>\n",
       "      <th>IMU_Hand_3D-gyroscope_1</th>\n",
       "      <th>IMU_Hand_3D-gyroscope_2</th>\n",
       "      <th>...</th>\n",
       "      <th>IMU_Hand_3D-magnetometer_2</th>\n",
       "      <th>IMU_Hand_3D-magnetometer_3</th>\n",
       "      <th>IMU_Hand_orientation_1</th>\n",
       "      <th>IMU_Hand_orientation_2</th>\n",
       "      <th>IMU_Hand_orientation_3</th>\n",
       "      <th>IMU_Hand_orientation_4</th>\n",
       "      <th>Age(years)</th>\n",
       "      <th>Height(cm)</th>\n",
       "      <th>Weight(kg)</th>\n",
       "      <th>Resting HR(bpm)</th>\n",
       "    </tr>\n",
       "  </thead>\n",
       "  <tbody>\n",
       "    <tr>\n",
       "      <th>0</th>\n",
       "      <td>84.0</td>\n",
       "      <td>33.8125</td>\n",
       "      <td>-9.64938</td>\n",
       "      <td>-1.68584</td>\n",
       "      <td>0.978888</td>\n",
       "      <td>-9.46791</td>\n",
       "      <td>-1.68076</td>\n",
       "      <td>1.15480</td>\n",
       "      <td>-0.008240</td>\n",
       "      <td>-0.029004</td>\n",
       "      <td>...</td>\n",
       "      <td>-6.16721</td>\n",
       "      <td>13.2289</td>\n",
       "      <td>0.723525</td>\n",
       "      <td>0.287683</td>\n",
       "      <td>-0.598212</td>\n",
       "      <td>-0.189454</td>\n",
       "      <td>32</td>\n",
       "      <td>179</td>\n",
       "      <td>87</td>\n",
       "      <td>66</td>\n",
       "    </tr>\n",
       "    <tr>\n",
       "      <th>1</th>\n",
       "      <td>84.0</td>\n",
       "      <td>33.8125</td>\n",
       "      <td>-9.80348</td>\n",
       "      <td>-1.72328</td>\n",
       "      <td>0.899731</td>\n",
       "      <td>-9.46778</td>\n",
       "      <td>-1.74110</td>\n",
       "      <td>1.23043</td>\n",
       "      <td>0.054293</td>\n",
       "      <td>-0.001861</td>\n",
       "      <td>...</td>\n",
       "      <td>-6.30482</td>\n",
       "      <td>13.0980</td>\n",
       "      <td>0.723643</td>\n",
       "      <td>0.287496</td>\n",
       "      <td>-0.598273</td>\n",
       "      <td>-0.189093</td>\n",
       "      <td>32</td>\n",
       "      <td>179</td>\n",
       "      <td>87</td>\n",
       "      <td>66</td>\n",
       "    </tr>\n",
       "    <tr>\n",
       "      <th>2</th>\n",
       "      <td>84.0</td>\n",
       "      <td>33.8125</td>\n",
       "      <td>-9.65232</td>\n",
       "      <td>-1.53509</td>\n",
       "      <td>0.862873</td>\n",
       "      <td>-9.46854</td>\n",
       "      <td>-1.75627</td>\n",
       "      <td>1.15496</td>\n",
       "      <td>0.000324</td>\n",
       "      <td>-0.042501</td>\n",
       "      <td>...</td>\n",
       "      <td>-6.58653</td>\n",
       "      <td>12.9672</td>\n",
       "      <td>0.723821</td>\n",
       "      <td>0.287497</td>\n",
       "      <td>-0.598050</td>\n",
       "      <td>-0.189116</td>\n",
       "      <td>32</td>\n",
       "      <td>179</td>\n",
       "      <td>87</td>\n",
       "      <td>66</td>\n",
       "    </tr>\n",
       "    <tr>\n",
       "      <th>3</th>\n",
       "      <td>84.0</td>\n",
       "      <td>33.8125</td>\n",
       "      <td>-9.65045</td>\n",
       "      <td>-1.64823</td>\n",
       "      <td>0.940257</td>\n",
       "      <td>-9.49956</td>\n",
       "      <td>-1.78632</td>\n",
       "      <td>1.07956</td>\n",
       "      <td>0.009701</td>\n",
       "      <td>-0.012660</td>\n",
       "      <td>...</td>\n",
       "      <td>-6.53328</td>\n",
       "      <td>13.1002</td>\n",
       "      <td>0.723847</td>\n",
       "      <td>0.287427</td>\n",
       "      <td>-0.598052</td>\n",
       "      <td>-0.189118</td>\n",
       "      <td>32</td>\n",
       "      <td>179</td>\n",
       "      <td>87</td>\n",
       "      <td>66</td>\n",
       "    </tr>\n",
       "    <tr>\n",
       "      <th>4</th>\n",
       "      <td>84.0</td>\n",
       "      <td>33.8125</td>\n",
       "      <td>-9.54564</td>\n",
       "      <td>-1.53764</td>\n",
       "      <td>0.672043</td>\n",
       "      <td>-9.48260</td>\n",
       "      <td>-1.66553</td>\n",
       "      <td>1.18498</td>\n",
       "      <td>-0.026993</td>\n",
       "      <td>-0.003300</td>\n",
       "      <td>...</td>\n",
       "      <td>-6.91248</td>\n",
       "      <td>13.1022</td>\n",
       "      <td>0.723837</td>\n",
       "      <td>0.287384</td>\n",
       "      <td>-0.598005</td>\n",
       "      <td>-0.189367</td>\n",
       "      <td>32</td>\n",
       "      <td>179</td>\n",
       "      <td>87</td>\n",
       "      <td>66</td>\n",
       "    </tr>\n",
       "  </tbody>\n",
       "</table>\n",
       "<p>5 rows × 22 columns</p>\n",
       "</div>"
      ],
      "text/plain": [
       "   HeartRate  IMU_Hand_temperature  IMU_Hand_3D-acc_16g_1  \\\n",
       "0       84.0               33.8125               -9.64938   \n",
       "1       84.0               33.8125               -9.80348   \n",
       "2       84.0               33.8125               -9.65232   \n",
       "3       84.0               33.8125               -9.65045   \n",
       "4       84.0               33.8125               -9.54564   \n",
       "\n",
       "   IMU_Hand_3D-acc_16g_2  IMU_Hand_3D-acc_16g_3  IMU_Hand_3D-acc_6g_1  \\\n",
       "0               -1.68584               0.978888              -9.46791   \n",
       "1               -1.72328               0.899731              -9.46778   \n",
       "2               -1.53509               0.862873              -9.46854   \n",
       "3               -1.64823               0.940257              -9.49956   \n",
       "4               -1.53764               0.672043              -9.48260   \n",
       "\n",
       "   IMU_Hand_3D-acc_6g_2  IMU_Hand_3D-acc_6g_3  IMU_Hand_3D-gyroscope_1  \\\n",
       "0              -1.68076               1.15480                -0.008240   \n",
       "1              -1.74110               1.23043                 0.054293   \n",
       "2              -1.75627               1.15496                 0.000324   \n",
       "3              -1.78632               1.07956                 0.009701   \n",
       "4              -1.66553               1.18498                -0.026993   \n",
       "\n",
       "   IMU_Hand_3D-gyroscope_2       ...         IMU_Hand_3D-magnetometer_2  \\\n",
       "0                -0.029004       ...                           -6.16721   \n",
       "1                -0.001861       ...                           -6.30482   \n",
       "2                -0.042501       ...                           -6.58653   \n",
       "3                -0.012660       ...                           -6.53328   \n",
       "4                -0.003300       ...                           -6.91248   \n",
       "\n",
       "   IMU_Hand_3D-magnetometer_3  IMU_Hand_orientation_1  IMU_Hand_orientation_2  \\\n",
       "0                     13.2289                0.723525                0.287683   \n",
       "1                     13.0980                0.723643                0.287496   \n",
       "2                     12.9672                0.723821                0.287497   \n",
       "3                     13.1002                0.723847                0.287427   \n",
       "4                     13.1022                0.723837                0.287384   \n",
       "\n",
       "   IMU_Hand_orientation_3  IMU_Hand_orientation_4  Age(years)  Height(cm)  \\\n",
       "0               -0.598212               -0.189454          32         179   \n",
       "1               -0.598273               -0.189093          32         179   \n",
       "2               -0.598050               -0.189116          32         179   \n",
       "3               -0.598052               -0.189118          32         179   \n",
       "4               -0.598005               -0.189367          32         179   \n",
       "\n",
       "   Weight(kg)  Resting HR(bpm)  \n",
       "0          87               66  \n",
       "1          87               66  \n",
       "2          87               66  \n",
       "3          87               66  \n",
       "4          87               66  \n",
       "\n",
       "[5 rows x 22 columns]"
      ]
     },
     "execution_count": 7,
     "metadata": {},
     "output_type": "execute_result"
    }
   ],
   "source": [
    "preprocessed_df.head()"
   ]
  },
  {
   "cell_type": "code",
   "execution_count": 8,
   "metadata": {},
   "outputs": [
    {
     "data": {
      "text/plain": [
       "TruncatedSVD(algorithm='randomized', n_components=15, n_iter=5,\n",
       "       random_state=None, tol=0.0)"
      ]
     },
     "execution_count": 8,
     "metadata": {},
     "output_type": "execute_result"
    }
   ],
   "source": [
    "SVD = TruncatedSVD(n_components=15)\n",
    "SVD.fit(preprocessed_df)"
   ]
  },
  {
   "cell_type": "code",
   "execution_count": 9,
   "metadata": {},
   "outputs": [],
   "source": [
    "preprocessed_df_svd_reduced = SVD.transform(preprocessed_df)"
   ]
  },
  {
   "cell_type": "code",
   "execution_count": 10,
   "metadata": {},
   "outputs": [
    {
     "data": {
      "text/plain": [
       "(1942872, 15)"
      ]
     },
     "execution_count": 10,
     "metadata": {},
     "output_type": "execute_result"
    }
   ],
   "source": [
    "preprocessed_df_svd_reduced.shape"
   ]
  },
  {
   "cell_type": "code",
   "execution_count": 11,
   "metadata": {},
   "outputs": [
    {
     "name": "stdout",
     "output_type": "stream",
     "text": [
      "0.9990041018553599\n"
     ]
    }
   ],
   "source": [
    "print(SVD.explained_variance_ratio_.sum())"
   ]
  },
  {
   "cell_type": "code",
   "execution_count": 13,
   "metadata": {},
   "outputs": [],
   "source": [
    "np.savetxt(\"preprocessed_hand_SVD.csv\", preprocessed_df_svd_reduced, delimiter=\",\")"
   ]
  },
  {
   "cell_type": "code",
   "execution_count": 14,
   "metadata": {},
   "outputs": [],
   "source": [
    "PCA = PCA(n_components=15).fit(preprocessed_df)\n",
    "preprocessed_df_pca_reduced = PCA.transform(preprocessed_df)"
   ]
  },
  {
   "cell_type": "code",
   "execution_count": 15,
   "metadata": {},
   "outputs": [
    {
     "data": {
      "text/plain": [
       "(1942872, 15)"
      ]
     },
     "execution_count": 15,
     "metadata": {},
     "output_type": "execute_result"
    }
   ],
   "source": [
    "preprocessed_df_pca_reduced.shape"
   ]
  },
  {
   "cell_type": "code",
   "execution_count": 16,
   "metadata": {},
   "outputs": [
    {
     "name": "stdout",
     "output_type": "stream",
     "text": [
      "0.9990058522503502\n"
     ]
    }
   ],
   "source": [
    "print(PCA.explained_variance_ratio_.sum())"
   ]
  },
  {
   "cell_type": "code",
   "execution_count": 17,
   "metadata": {},
   "outputs": [],
   "source": [
    "np.savetxt(\"preprocessed_hand_PCA.csv\", preprocessed_df_pca_reduced, delimiter=\",\")"
   ]
  },
  {
   "cell_type": "code",
   "execution_count": null,
   "metadata": {},
   "outputs": [],
   "source": []
  }
 ],
 "metadata": {
  "kernelspec": {
   "display_name": "Python 3",
   "language": "python",
   "name": "python3"
  },
  "language_info": {
   "codemirror_mode": {
    "name": "ipython",
    "version": 3
   },
   "file_extension": ".py",
   "mimetype": "text/x-python",
   "name": "python",
   "nbconvert_exporter": "python",
   "pygments_lexer": "ipython3",
   "version": "3.7.1"
  }
 },
 "nbformat": 4,
 "nbformat_minor": 2
}
