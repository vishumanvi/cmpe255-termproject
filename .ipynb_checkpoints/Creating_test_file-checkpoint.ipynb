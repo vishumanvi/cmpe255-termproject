{
 "cells": [
  {
   "cell_type": "code",
   "execution_count": 5,
   "metadata": {},
   "outputs": [],
   "source": [
    "import numpy as np\n",
    "import pandas as pd\n",
    "from os import listdir\n",
    "from os.path import isfile, join\n",
    "import matplotlib.pyplot as plt\n",
    "import math\n",
    "from sklearn.model_selection import train_test_split\n",
    "from sklearn.metrics import accuracy_score"
   ]
  },
  {
   "cell_type": "code",
   "execution_count": 11,
   "metadata": {},
   "outputs": [],
   "source": [
    "svd_df = pd.read_csv(\"Data/preprocessed_data_SVD.csv\",header=None)\n",
    "pca_df = pd.read_csv(\"Data/preprocessed_data_PCA.csv\",header=None)\n",
    "labels_df = pd.read_csv(\"Data/labels.csv\", header=None)"
   ]
  },
  {
   "cell_type": "code",
   "execution_count": 18,
   "metadata": {},
   "outputs": [],
   "source": [
    "svd_df=(svd_df-svd_df.mean())/svd_df.std()"
   ]
  },
  {
   "cell_type": "code",
   "execution_count": 12,
   "metadata": {},
   "outputs": [],
   "source": [
    "pca_df=(pca_df-pca_df.mean())/pca_df.std()\n",
    "labels = labels_df.iloc[:,1]"
   ]
  },
  {
   "cell_type": "code",
   "execution_count": 19,
   "metadata": {},
   "outputs": [],
   "source": [
    "X_train_1, X_test_1, y_train_1, y_test_1 = train_test_split(\n",
    "    svd_df, labels, test_size=0.25, random_state=42)"
   ]
  },
  {
   "cell_type": "code",
   "execution_count": 14,
   "metadata": {},
   "outputs": [],
   "source": [
    "X_train_2, X_test_2, y_train_2, y_test_2 = train_test_split(\n",
    "    pca_df, labels, test_size=0.25, random_state=42)"
   ]
  },
  {
   "cell_type": "code",
   "execution_count": 20,
   "metadata": {},
   "outputs": [],
   "source": [
    "X_test_1.to_csv(\"X_test_svd.csv\")\n",
    "y_test_1.to_csv(\"y_test_svd.csv\")"
   ]
  },
  {
   "cell_type": "code",
   "execution_count": 16,
   "metadata": {},
   "outputs": [],
   "source": [
    "X_test_2.to_csv(\"X_test_pca.csv\")\n",
    "y_test_2.to_csv(\"y_test_pca.csv\")"
   ]
  },
  {
   "cell_type": "code",
   "execution_count": 51,
   "metadata": {},
   "outputs": [
    {
     "ename": "TypeError",
     "evalue": "rename() got an unexpected keyword argument \"columns\"",
     "output_type": "error",
     "traceback": [
      "\u001b[1;31m---------------------------------------------------------------------------\u001b[0m",
      "\u001b[1;31mTypeError\u001b[0m                                 Traceback (most recent call last)",
      "\u001b[1;32m<ipython-input-51-144be7d4510b>\u001b[0m in \u001b[0;36m<module>\u001b[1;34m\u001b[0m\n\u001b[1;32m----> 1\u001b[1;33m \u001b[0my_test_1\u001b[0m\u001b[1;33m.\u001b[0m\u001b[0mrename\u001b[0m\u001b[1;33m(\u001b[0m\u001b[0mindex\u001b[0m\u001b[1;33m=\u001b[0m\u001b[0mstr\u001b[0m\u001b[1;33m,\u001b[0m \u001b[0mcolumns\u001b[0m\u001b[1;33m=\u001b[0m\u001b[1;33m{\u001b[0m\u001b[1;36m1\u001b[0m\u001b[1;33m:\u001b[0m\u001b[1;34m\"activityId\"\u001b[0m\u001b[1;33m}\u001b[0m\u001b[1;33m)\u001b[0m\u001b[1;33m\u001b[0m\u001b[1;33m\u001b[0m\u001b[0m\n\u001b[0m\u001b[0;32m      2\u001b[0m \u001b[0my_test_2\u001b[0m\u001b[1;33m.\u001b[0m\u001b[0mrename\u001b[0m\u001b[1;33m(\u001b[0m\u001b[0mindex\u001b[0m\u001b[1;33m=\u001b[0m\u001b[0mstr\u001b[0m\u001b[1;33m,\u001b[0m \u001b[0mcolumns\u001b[0m\u001b[1;33m=\u001b[0m\u001b[1;33m{\u001b[0m\u001b[1;36m1\u001b[0m\u001b[1;33m:\u001b[0m\u001b[1;34m\"activityId\"\u001b[0m\u001b[1;33m}\u001b[0m\u001b[1;33m)\u001b[0m\u001b[1;33m\u001b[0m\u001b[1;33m\u001b[0m\u001b[0m\n",
      "\u001b[1;32m~\\Anaconda3\\lib\\site-packages\\pandas\\core\\series.py\u001b[0m in \u001b[0;36mrename\u001b[1;34m(self, index, **kwargs)\u001b[0m\n\u001b[0;32m   3319\u001b[0m         \u001b[1;32mif\u001b[0m \u001b[0mnon_mapping\u001b[0m\u001b[1;33m:\u001b[0m\u001b[1;33m\u001b[0m\u001b[1;33m\u001b[0m\u001b[0m\n\u001b[0;32m   3320\u001b[0m             \u001b[1;32mreturn\u001b[0m \u001b[0mself\u001b[0m\u001b[1;33m.\u001b[0m\u001b[0m_set_name\u001b[0m\u001b[1;33m(\u001b[0m\u001b[0mindex\u001b[0m\u001b[1;33m,\u001b[0m \u001b[0minplace\u001b[0m\u001b[1;33m=\u001b[0m\u001b[0mkwargs\u001b[0m\u001b[1;33m.\u001b[0m\u001b[0mget\u001b[0m\u001b[1;33m(\u001b[0m\u001b[1;34m'inplace'\u001b[0m\u001b[1;33m)\u001b[0m\u001b[1;33m)\u001b[0m\u001b[1;33m\u001b[0m\u001b[1;33m\u001b[0m\u001b[0m\n\u001b[1;32m-> 3321\u001b[1;33m         \u001b[1;32mreturn\u001b[0m \u001b[0msuper\u001b[0m\u001b[1;33m(\u001b[0m\u001b[0mSeries\u001b[0m\u001b[1;33m,\u001b[0m \u001b[0mself\u001b[0m\u001b[1;33m)\u001b[0m\u001b[1;33m.\u001b[0m\u001b[0mrename\u001b[0m\u001b[1;33m(\u001b[0m\u001b[0mindex\u001b[0m\u001b[1;33m=\u001b[0m\u001b[0mindex\u001b[0m\u001b[1;33m,\u001b[0m \u001b[1;33m**\u001b[0m\u001b[0mkwargs\u001b[0m\u001b[1;33m)\u001b[0m\u001b[1;33m\u001b[0m\u001b[1;33m\u001b[0m\u001b[0m\n\u001b[0m\u001b[0;32m   3322\u001b[0m \u001b[1;33m\u001b[0m\u001b[0m\n\u001b[0;32m   3323\u001b[0m     \u001b[1;33m@\u001b[0m\u001b[0mAppender\u001b[0m\u001b[1;33m(\u001b[0m\u001b[0mgeneric\u001b[0m\u001b[1;33m.\u001b[0m\u001b[0m_shared_docs\u001b[0m\u001b[1;33m[\u001b[0m\u001b[1;34m'reindex'\u001b[0m\u001b[1;33m]\u001b[0m \u001b[1;33m%\u001b[0m \u001b[0m_shared_doc_kwargs\u001b[0m\u001b[1;33m)\u001b[0m\u001b[1;33m\u001b[0m\u001b[1;33m\u001b[0m\u001b[0m\n",
      "\u001b[1;32m~\\Anaconda3\\lib\\site-packages\\pandas\\core\\generic.py\u001b[0m in \u001b[0;36mrename\u001b[1;34m(self, *args, **kwargs)\u001b[0m\n\u001b[0;32m    939\u001b[0m         \u001b[1;32mif\u001b[0m \u001b[0mkwargs\u001b[0m\u001b[1;33m:\u001b[0m\u001b[1;33m\u001b[0m\u001b[1;33m\u001b[0m\u001b[0m\n\u001b[0;32m    940\u001b[0m             raise TypeError('rename() got an unexpected keyword '\n\u001b[1;32m--> 941\u001b[1;33m                             'argument \"{0}\"'.format(list(kwargs.keys())[0]))\n\u001b[0m\u001b[0;32m    942\u001b[0m \u001b[1;33m\u001b[0m\u001b[0m\n\u001b[0;32m    943\u001b[0m         \u001b[1;32mif\u001b[0m \u001b[0mcom\u001b[0m\u001b[1;33m.\u001b[0m\u001b[0m_count_not_none\u001b[0m\u001b[1;33m(\u001b[0m\u001b[1;33m*\u001b[0m\u001b[0maxes\u001b[0m\u001b[1;33m.\u001b[0m\u001b[0mvalues\u001b[0m\u001b[1;33m(\u001b[0m\u001b[1;33m)\u001b[0m\u001b[1;33m)\u001b[0m \u001b[1;33m==\u001b[0m \u001b[1;36m0\u001b[0m\u001b[1;33m:\u001b[0m\u001b[1;33m\u001b[0m\u001b[1;33m\u001b[0m\u001b[0m\n",
      "\u001b[1;31mTypeError\u001b[0m: rename() got an unexpected keyword argument \"columns\""
     ]
    }
   ],
   "source": [
    "y_test_1.rename(index=str, columns={1:\"activityId\"})\n",
    "y_test_2.rename(index=str, columns={1:\"activityId\"})\n",
    "y_test_1.head()"
   ]
  },
  {
   "cell_type": "code",
   "execution_count": 48,
   "metadata": {},
   "outputs": [],
   "source": [
    "joined_df_svd = pd.concat([y_test_1, X_test_1], axis=1)\n",
    "joined_df_pca = pd.concat([y_test_2, X_test_2], axis=1)"
   ]
  },
  {
   "cell_type": "code",
   "execution_count": 50,
   "metadata": {},
   "outputs": [
    {
     "data": {
      "text/html": [
       "<div>\n",
       "<style scoped>\n",
       "    .dataframe tbody tr th:only-of-type {\n",
       "        vertical-align: middle;\n",
       "    }\n",
       "\n",
       "    .dataframe tbody tr th {\n",
       "        vertical-align: top;\n",
       "    }\n",
       "\n",
       "    .dataframe thead th {\n",
       "        text-align: right;\n",
       "    }\n",
       "</style>\n",
       "<table border=\"1\" class=\"dataframe\">\n",
       "  <thead>\n",
       "    <tr style=\"text-align: right;\">\n",
       "      <th></th>\n",
       "      <th>1</th>\n",
       "      <th>0</th>\n",
       "      <th>1</th>\n",
       "      <th>2</th>\n",
       "      <th>3</th>\n",
       "      <th>4</th>\n",
       "      <th>5</th>\n",
       "      <th>6</th>\n",
       "      <th>7</th>\n",
       "      <th>8</th>\n",
       "      <th>9</th>\n",
       "      <th>10</th>\n",
       "      <th>11</th>\n",
       "      <th>12</th>\n",
       "      <th>13</th>\n",
       "      <th>14</th>\n",
       "    </tr>\n",
       "  </thead>\n",
       "  <tbody>\n",
       "    <tr>\n",
       "      <th>787813</th>\n",
       "      <td>16</td>\n",
       "      <td>-0.183786</td>\n",
       "      <td>-0.457779</td>\n",
       "      <td>0.260047</td>\n",
       "      <td>-1.189766</td>\n",
       "      <td>-0.931734</td>\n",
       "      <td>-0.054773</td>\n",
       "      <td>-0.128381</td>\n",
       "      <td>0.743856</td>\n",
       "      <td>0.178515</td>\n",
       "      <td>1.018924</td>\n",
       "      <td>0.449437</td>\n",
       "      <td>-0.315678</td>\n",
       "      <td>-0.705208</td>\n",
       "      <td>-0.854053</td>\n",
       "      <td>-1.083662</td>\n",
       "    </tr>\n",
       "    <tr>\n",
       "      <th>1306595</th>\n",
       "      <td>16</td>\n",
       "      <td>0.748452</td>\n",
       "      <td>-1.099224</td>\n",
       "      <td>1.352498</td>\n",
       "      <td>3.147402</td>\n",
       "      <td>-0.115478</td>\n",
       "      <td>0.722060</td>\n",
       "      <td>1.177504</td>\n",
       "      <td>-1.754692</td>\n",
       "      <td>-0.812927</td>\n",
       "      <td>0.545074</td>\n",
       "      <td>0.190060</td>\n",
       "      <td>0.062701</td>\n",
       "      <td>-0.039619</td>\n",
       "      <td>0.323339</td>\n",
       "      <td>-0.415683</td>\n",
       "    </tr>\n",
       "    <tr>\n",
       "      <th>1126937</th>\n",
       "      <td>7</td>\n",
       "      <td>-0.437120</td>\n",
       "      <td>0.326394</td>\n",
       "      <td>-0.501451</td>\n",
       "      <td>-0.795272</td>\n",
       "      <td>-0.630120</td>\n",
       "      <td>0.597690</td>\n",
       "      <td>-3.070187</td>\n",
       "      <td>-0.227367</td>\n",
       "      <td>-0.007314</td>\n",
       "      <td>0.179746</td>\n",
       "      <td>-0.001779</td>\n",
       "      <td>1.103379</td>\n",
       "      <td>0.017482</td>\n",
       "      <td>2.776103</td>\n",
       "      <td>-0.299496</td>\n",
       "    </tr>\n",
       "    <tr>\n",
       "      <th>262971</th>\n",
       "      <td>1</td>\n",
       "      <td>-0.348079</td>\n",
       "      <td>0.951896</td>\n",
       "      <td>0.435529</td>\n",
       "      <td>1.183019</td>\n",
       "      <td>-1.167140</td>\n",
       "      <td>-1.737951</td>\n",
       "      <td>-0.677712</td>\n",
       "      <td>0.471008</td>\n",
       "      <td>-0.670432</td>\n",
       "      <td>-0.723341</td>\n",
       "      <td>-0.066268</td>\n",
       "      <td>-0.174825</td>\n",
       "      <td>-2.431240</td>\n",
       "      <td>0.473842</td>\n",
       "      <td>0.084579</td>\n",
       "    </tr>\n",
       "    <tr>\n",
       "      <th>381687</th>\n",
       "      <td>13</td>\n",
       "      <td>-0.818748</td>\n",
       "      <td>0.357149</td>\n",
       "      <td>-0.374139</td>\n",
       "      <td>-0.864511</td>\n",
       "      <td>0.895696</td>\n",
       "      <td>-0.200420</td>\n",
       "      <td>2.043204</td>\n",
       "      <td>-1.390547</td>\n",
       "      <td>-0.614810</td>\n",
       "      <td>0.725895</td>\n",
       "      <td>0.059098</td>\n",
       "      <td>0.800117</td>\n",
       "      <td>-1.288961</td>\n",
       "      <td>0.235100</td>\n",
       "      <td>-0.415948</td>\n",
       "    </tr>\n",
       "  </tbody>\n",
       "</table>\n",
       "</div>"
      ],
      "text/plain": [
       "         1         0         1         2         3         4         5   \\\n",
       "787813   16 -0.183786 -0.457779  0.260047 -1.189766 -0.931734 -0.054773   \n",
       "1306595  16  0.748452 -1.099224  1.352498  3.147402 -0.115478  0.722060   \n",
       "1126937   7 -0.437120  0.326394 -0.501451 -0.795272 -0.630120  0.597690   \n",
       "262971    1 -0.348079  0.951896  0.435529  1.183019 -1.167140 -1.737951   \n",
       "381687   13 -0.818748  0.357149 -0.374139 -0.864511  0.895696 -0.200420   \n",
       "\n",
       "               6         7         8         9         10        11        12  \\\n",
       "787813  -0.128381  0.743856  0.178515  1.018924  0.449437 -0.315678 -0.705208   \n",
       "1306595  1.177504 -1.754692 -0.812927  0.545074  0.190060  0.062701 -0.039619   \n",
       "1126937 -3.070187 -0.227367 -0.007314  0.179746 -0.001779  1.103379  0.017482   \n",
       "262971  -0.677712  0.471008 -0.670432 -0.723341 -0.066268 -0.174825 -2.431240   \n",
       "381687   2.043204 -1.390547 -0.614810  0.725895  0.059098  0.800117 -1.288961   \n",
       "\n",
       "               13        14  \n",
       "787813  -0.854053 -1.083662  \n",
       "1306595  0.323339 -0.415683  \n",
       "1126937  2.776103 -0.299496  \n",
       "262971   0.473842  0.084579  \n",
       "381687   0.235100 -0.415948  "
      ]
     },
     "execution_count": 50,
     "metadata": {},
     "output_type": "execute_result"
    }
   ],
   "source": [
    "joined_df_svd.head()"
   ]
  },
  {
   "cell_type": "code",
   "execution_count": null,
   "metadata": {},
   "outputs": [],
   "source": []
  }
 ],
 "metadata": {
  "kernelspec": {
   "display_name": "Python 3",
   "language": "python",
   "name": "python3"
  },
  "language_info": {
   "codemirror_mode": {
    "name": "ipython",
    "version": 3
   },
   "file_extension": ".py",
   "mimetype": "text/x-python",
   "name": "python",
   "nbconvert_exporter": "python",
   "pygments_lexer": "ipython3",
   "version": "3.7.1"
  }
 },
 "nbformat": 4,
 "nbformat_minor": 2
}
