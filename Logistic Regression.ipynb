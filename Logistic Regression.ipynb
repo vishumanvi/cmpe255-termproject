{
 "cells": [
  {
   "cell_type": "code",
   "execution_count": 1,
   "metadata": {},
   "outputs": [],
   "source": [
    "import numpy as np\n",
    "import pandas as pd\n",
    "from os import listdir\n",
    "from os.path import isfile, join\n",
    "import matplotlib.pyplot as plt\n",
    "import math\n",
    "from sklearn.model_selection import train_test_split\n",
    "from sklearn.model_selection import KFold\n",
    "from sklearn.linear_model import LogisticRegression\n",
    "from sklearn.metrics import accuracy_score"
   ]
  },
  {
   "cell_type": "code",
   "execution_count": 2,
   "metadata": {},
   "outputs": [],
   "source": [
    "svd_df = pd.read_csv(\"preprocessed_data_SVD.csv\",header=None)"
   ]
  },
  {
   "cell_type": "code",
   "execution_count": 3,
   "metadata": {},
   "outputs": [
    {
     "data": {
      "text/html": [
       "<div>\n",
       "<style scoped>\n",
       "    .dataframe tbody tr th:only-of-type {\n",
       "        vertical-align: middle;\n",
       "    }\n",
       "\n",
       "    .dataframe tbody tr th {\n",
       "        vertical-align: top;\n",
       "    }\n",
       "\n",
       "    .dataframe thead th {\n",
       "        text-align: right;\n",
       "    }\n",
       "</style>\n",
       "<table border=\"1\" class=\"dataframe\">\n",
       "  <thead>\n",
       "    <tr style=\"text-align: right;\">\n",
       "      <th></th>\n",
       "      <th>0</th>\n",
       "      <th>1</th>\n",
       "      <th>2</th>\n",
       "      <th>3</th>\n",
       "      <th>4</th>\n",
       "      <th>5</th>\n",
       "      <th>6</th>\n",
       "      <th>7</th>\n",
       "      <th>8</th>\n",
       "      <th>9</th>\n",
       "      <th>10</th>\n",
       "      <th>11</th>\n",
       "      <th>12</th>\n",
       "      <th>13</th>\n",
       "      <th>14</th>\n",
       "    </tr>\n",
       "  </thead>\n",
       "  <tbody>\n",
       "    <tr>\n",
       "      <th>0</th>\n",
       "      <td>241.065407</td>\n",
       "      <td>4.568325</td>\n",
       "      <td>-29.462353</td>\n",
       "      <td>-16.344498</td>\n",
       "      <td>21.554520</td>\n",
       "      <td>8.727630</td>\n",
       "      <td>46.992144</td>\n",
       "      <td>-21.437557</td>\n",
       "      <td>-27.379202</td>\n",
       "      <td>24.916987</td>\n",
       "      <td>-6.506860</td>\n",
       "      <td>4.952574</td>\n",
       "      <td>-9.031316</td>\n",
       "      <td>3.972765</td>\n",
       "      <td>-0.521677</td>\n",
       "    </tr>\n",
       "    <tr>\n",
       "      <th>1</th>\n",
       "      <td>241.005587</td>\n",
       "      <td>4.138426</td>\n",
       "      <td>-29.741656</td>\n",
       "      <td>-16.198781</td>\n",
       "      <td>21.835562</td>\n",
       "      <td>8.575280</td>\n",
       "      <td>47.714613</td>\n",
       "      <td>-21.275756</td>\n",
       "      <td>-27.438019</td>\n",
       "      <td>24.804485</td>\n",
       "      <td>-6.779410</td>\n",
       "      <td>4.581905</td>\n",
       "      <td>-8.762475</td>\n",
       "      <td>3.773299</td>\n",
       "      <td>-0.523821</td>\n",
       "    </tr>\n",
       "    <tr>\n",
       "      <th>2</th>\n",
       "      <td>241.073656</td>\n",
       "      <td>4.292379</td>\n",
       "      <td>-29.770200</td>\n",
       "      <td>-16.070736</td>\n",
       "      <td>21.125088</td>\n",
       "      <td>8.825954</td>\n",
       "      <td>47.850472</td>\n",
       "      <td>-22.349457</td>\n",
       "      <td>-26.336326</td>\n",
       "      <td>24.138650</td>\n",
       "      <td>-6.850718</td>\n",
       "      <td>4.128201</td>\n",
       "      <td>-8.337516</td>\n",
       "      <td>3.462832</td>\n",
       "      <td>-0.352323</td>\n",
       "    </tr>\n",
       "    <tr>\n",
       "      <th>3</th>\n",
       "      <td>240.909646</td>\n",
       "      <td>3.684386</td>\n",
       "      <td>-29.524516</td>\n",
       "      <td>-15.926641</td>\n",
       "      <td>21.675685</td>\n",
       "      <td>8.243264</td>\n",
       "      <td>47.916351</td>\n",
       "      <td>-21.702392</td>\n",
       "      <td>-27.591276</td>\n",
       "      <td>24.469207</td>\n",
       "      <td>-7.219079</td>\n",
       "      <td>4.170502</td>\n",
       "      <td>-8.284885</td>\n",
       "      <td>3.365185</td>\n",
       "      <td>-0.576131</td>\n",
       "    </tr>\n",
       "    <tr>\n",
       "      <th>4</th>\n",
       "      <td>241.038717</td>\n",
       "      <td>4.556688</td>\n",
       "      <td>-29.451037</td>\n",
       "      <td>-15.879348</td>\n",
       "      <td>21.266759</td>\n",
       "      <td>8.466058</td>\n",
       "      <td>48.033721</td>\n",
       "      <td>-21.416052</td>\n",
       "      <td>-28.020814</td>\n",
       "      <td>24.825513</td>\n",
       "      <td>-7.094547</td>\n",
       "      <td>4.461557</td>\n",
       "      <td>-8.635757</td>\n",
       "      <td>3.677593</td>\n",
       "      <td>-0.646860</td>\n",
       "    </tr>\n",
       "  </tbody>\n",
       "</table>\n",
       "</div>"
      ],
      "text/plain": [
       "           0         1          2          3          4         5          6   \\\n",
       "0  241.065407  4.568325 -29.462353 -16.344498  21.554520  8.727630  46.992144   \n",
       "1  241.005587  4.138426 -29.741656 -16.198781  21.835562  8.575280  47.714613   \n",
       "2  241.073656  4.292379 -29.770200 -16.070736  21.125088  8.825954  47.850472   \n",
       "3  240.909646  3.684386 -29.524516 -15.926641  21.675685  8.243264  47.916351   \n",
       "4  241.038717  4.556688 -29.451037 -15.879348  21.266759  8.466058  48.033721   \n",
       "\n",
       "          7          8          9         10        11        12        13  \\\n",
       "0 -21.437557 -27.379202  24.916987 -6.506860  4.952574 -9.031316  3.972765   \n",
       "1 -21.275756 -27.438019  24.804485 -6.779410  4.581905 -8.762475  3.773299   \n",
       "2 -22.349457 -26.336326  24.138650 -6.850718  4.128201 -8.337516  3.462832   \n",
       "3 -21.702392 -27.591276  24.469207 -7.219079  4.170502 -8.284885  3.365185   \n",
       "4 -21.416052 -28.020814  24.825513 -7.094547  4.461557 -8.635757  3.677593   \n",
       "\n",
       "         14  \n",
       "0 -0.521677  \n",
       "1 -0.523821  \n",
       "2 -0.352323  \n",
       "3 -0.576131  \n",
       "4 -0.646860  "
      ]
     },
     "execution_count": 3,
     "metadata": {},
     "output_type": "execute_result"
    }
   ],
   "source": [
    "svd_df.head()"
   ]
  },
  {
   "cell_type": "code",
   "execution_count": 4,
   "metadata": {},
   "outputs": [],
   "source": [
    "pca_df = pd.read_csv(\"preprocessed_data_PCA.csv\",header=None)"
   ]
  },
  {
   "cell_type": "code",
   "execution_count": 5,
   "metadata": {},
   "outputs": [
    {
     "data": {
      "text/html": [
       "<div>\n",
       "<style scoped>\n",
       "    .dataframe tbody tr th:only-of-type {\n",
       "        vertical-align: middle;\n",
       "    }\n",
       "\n",
       "    .dataframe tbody tr th {\n",
       "        vertical-align: top;\n",
       "    }\n",
       "\n",
       "    .dataframe thead th {\n",
       "        text-align: right;\n",
       "    }\n",
       "</style>\n",
       "<table border=\"1\" class=\"dataframe\">\n",
       "  <thead>\n",
       "    <tr style=\"text-align: right;\">\n",
       "      <th></th>\n",
       "      <th>0</th>\n",
       "      <th>1</th>\n",
       "      <th>2</th>\n",
       "      <th>3</th>\n",
       "      <th>4</th>\n",
       "      <th>5</th>\n",
       "      <th>6</th>\n",
       "      <th>7</th>\n",
       "      <th>8</th>\n",
       "      <th>9</th>\n",
       "      <th>10</th>\n",
       "      <th>11</th>\n",
       "      <th>12</th>\n",
       "      <th>13</th>\n",
       "      <th>14</th>\n",
       "    </tr>\n",
       "  </thead>\n",
       "  <tbody>\n",
       "    <tr>\n",
       "      <th>0</th>\n",
       "      <td>0.915478</td>\n",
       "      <td>-29.708285</td>\n",
       "      <td>-18.567470</td>\n",
       "      <td>19.941870</td>\n",
       "      <td>10.040662</td>\n",
       "      <td>47.994886</td>\n",
       "      <td>22.602111</td>\n",
       "      <td>-26.405725</td>\n",
       "      <td>23.781513</td>\n",
       "      <td>-5.840281</td>\n",
       "      <td>-2.202161</td>\n",
       "      <td>9.618831</td>\n",
       "      <td>-7.817354</td>\n",
       "      <td>-2.326413</td>\n",
       "      <td>0.830279</td>\n",
       "    </tr>\n",
       "    <tr>\n",
       "      <th>1</th>\n",
       "      <td>0.501408</td>\n",
       "      <td>-29.982723</td>\n",
       "      <td>-18.356527</td>\n",
       "      <td>20.196495</td>\n",
       "      <td>9.906214</td>\n",
       "      <td>48.728084</td>\n",
       "      <td>22.441971</td>\n",
       "      <td>-26.463517</td>\n",
       "      <td>23.666009</td>\n",
       "      <td>-6.104951</td>\n",
       "      <td>-2.466416</td>\n",
       "      <td>9.324971</td>\n",
       "      <td>-7.529464</td>\n",
       "      <td>-2.212197</td>\n",
       "      <td>1.018723</td>\n",
       "    </tr>\n",
       "    <tr>\n",
       "      <th>2</th>\n",
       "      <td>0.672313</td>\n",
       "      <td>-30.011755</td>\n",
       "      <td>-18.285465</td>\n",
       "      <td>19.496385</td>\n",
       "      <td>10.125876</td>\n",
       "      <td>48.823792</td>\n",
       "      <td>23.462359</td>\n",
       "      <td>-25.295018</td>\n",
       "      <td>23.042888</td>\n",
       "      <td>-6.194817</td>\n",
       "      <td>-2.579618</td>\n",
       "      <td>8.755439</td>\n",
       "      <td>-7.158226</td>\n",
       "      <td>-1.902848</td>\n",
       "      <td>1.055714</td>\n",
       "    </tr>\n",
       "    <tr>\n",
       "      <th>3</th>\n",
       "      <td>0.057232</td>\n",
       "      <td>-29.760668</td>\n",
       "      <td>-18.074979</td>\n",
       "      <td>20.012192</td>\n",
       "      <td>9.574128</td>\n",
       "      <td>48.935205</td>\n",
       "      <td>22.873641</td>\n",
       "      <td>-26.585023</td>\n",
       "      <td>23.323926</td>\n",
       "      <td>-6.535679</td>\n",
       "      <td>-2.766648</td>\n",
       "      <td>8.991217</td>\n",
       "      <td>-6.957730</td>\n",
       "      <td>-2.020537</td>\n",
       "      <td>1.184568</td>\n",
       "    </tr>\n",
       "    <tr>\n",
       "      <th>4</th>\n",
       "      <td>0.910670</td>\n",
       "      <td>-29.695378</td>\n",
       "      <td>-18.205501</td>\n",
       "      <td>19.553513</td>\n",
       "      <td>9.788785</td>\n",
       "      <td>49.051764</td>\n",
       "      <td>22.605893</td>\n",
       "      <td>-27.023506</td>\n",
       "      <td>23.661876</td>\n",
       "      <td>-6.404352</td>\n",
       "      <td>-2.656896</td>\n",
       "      <td>9.327715</td>\n",
       "      <td>-7.326091</td>\n",
       "      <td>-2.264919</td>\n",
       "      <td>0.889200</td>\n",
       "    </tr>\n",
       "  </tbody>\n",
       "</table>\n",
       "</div>"
      ],
      "text/plain": [
       "         0          1          2          3          4          5          6   \\\n",
       "0  0.915478 -29.708285 -18.567470  19.941870  10.040662  47.994886  22.602111   \n",
       "1  0.501408 -29.982723 -18.356527  20.196495   9.906214  48.728084  22.441971   \n",
       "2  0.672313 -30.011755 -18.285465  19.496385  10.125876  48.823792  23.462359   \n",
       "3  0.057232 -29.760668 -18.074979  20.012192   9.574128  48.935205  22.873641   \n",
       "4  0.910670 -29.695378 -18.205501  19.553513   9.788785  49.051764  22.605893   \n",
       "\n",
       "          7          8         9         10        11        12        13  \\\n",
       "0 -26.405725  23.781513 -5.840281 -2.202161  9.618831 -7.817354 -2.326413   \n",
       "1 -26.463517  23.666009 -6.104951 -2.466416  9.324971 -7.529464 -2.212197   \n",
       "2 -25.295018  23.042888 -6.194817 -2.579618  8.755439 -7.158226 -1.902848   \n",
       "3 -26.585023  23.323926 -6.535679 -2.766648  8.991217 -6.957730 -2.020537   \n",
       "4 -27.023506  23.661876 -6.404352 -2.656896  9.327715 -7.326091 -2.264919   \n",
       "\n",
       "         14  \n",
       "0  0.830279  \n",
       "1  1.018723  \n",
       "2  1.055714  \n",
       "3  1.184568  \n",
       "4  0.889200  "
      ]
     },
     "execution_count": 5,
     "metadata": {},
     "output_type": "execute_result"
    }
   ],
   "source": [
    "pca_df.head()"
   ]
  },
  {
   "cell_type": "code",
   "execution_count": 6,
   "metadata": {},
   "outputs": [],
   "source": [
    "pca_df=(pca_df-pca_df.mean())/pca_df.std()"
   ]
  },
  {
   "cell_type": "code",
   "execution_count": 7,
   "metadata": {},
   "outputs": [],
   "source": [
    "svd_df=(svd_df-svd_df.mean())/svd_df.std()"
   ]
  },
  {
   "cell_type": "code",
   "execution_count": 8,
   "metadata": {},
   "outputs": [],
   "source": [
    "labels_df = pd.read_csv(\"./dataset/labels.csv\", header=None)"
   ]
  },
  {
   "cell_type": "code",
   "execution_count": 9,
   "metadata": {},
   "outputs": [],
   "source": [
    "labels = labels_df.iloc[:,1]"
   ]
  },
  {
   "cell_type": "code",
   "execution_count": 10,
   "metadata": {},
   "outputs": [],
   "source": [
    "# Split SVD data\n",
    "X_train, X_test, Y_train, Y_test = train_test_split(\n",
    "    svd_df, labels, test_size=0.25, random_state=42)"
   ]
  },
  {
   "cell_type": "code",
   "execution_count": 15,
   "metadata": {},
   "outputs": [],
   "source": [
    "# Split PCA data\n",
    "X_train, X_test, Y_train, Y_test = train_test_split(\n",
    "    pca_df, labels, test_size=0.25, random_state=42)"
   ]
  },
  {
   "cell_type": "code",
   "execution_count": 16,
   "metadata": {},
   "outputs": [],
   "source": [
    "lr_clf = LogisticRegression(solver='lbfgs', multi_class='multinomial', C=0.01, n_jobs=2).fit(X_train, Y_train)"
   ]
  },
  {
   "cell_type": "code",
   "execution_count": 17,
   "metadata": {},
   "outputs": [],
   "source": [
    "predicted_values = lr_clf.predict(X_test)"
   ]
  },
  {
   "cell_type": "code",
   "execution_count": 18,
   "metadata": {},
   "outputs": [
    {
     "data": {
      "text/plain": [
       "0.7050201969043766"
      ]
     },
     "execution_count": 18,
     "metadata": {},
     "output_type": "execute_result"
    }
   ],
   "source": [
    "accuracy_score(Y_test, predicted_values)"
   ]
  },
  {
   "cell_type": "code",
   "execution_count": 19,
   "metadata": {},
   "outputs": [],
   "source": [
    "import pickle\n",
    "pickle.dump(lr_clf, open(\"LR_PCA.pkl\", \"wb\"))"
   ]
  },
  {
   "cell_type": "code",
   "execution_count": 50,
   "metadata": {},
   "outputs": [
    {
     "data": {
      "text/plain": [
       "0.6896635496316793"
      ]
     },
     "execution_count": 50,
     "metadata": {},
     "output_type": "execute_result"
    }
   ],
   "source": [
    "lr_clf_saved = pickle.load(open(\"LR_SVD.pkl\", \"rb\"))\n",
    "\n",
    "predicted_values = lr_clf_saved.predict(X_test)\n",
    "accuracy_score(Y_test, predicted_values)"
   ]
  },
  {
   "cell_type": "code",
   "execution_count": 96,
   "metadata": {},
   "outputs": [
    {
     "data": {
      "text/plain": [
       "787813      2\n",
       "1306595     3\n",
       "1126937    12\n",
       "262971     24\n",
       "381687     16\n",
       "1157157     4\n",
       "233888      7\n",
       "1705772     7\n",
       "816120      3\n",
       "43602       2\n",
       "848422     17\n",
       "645119     12\n",
       "861825     16\n",
       "829704     17\n",
       "1504240    24\n",
       "292558      1\n",
       "1852700    17\n",
       "956252      7\n",
       "1731502     6\n",
       "615371     16\n",
       "440649      4\n",
       "1718407     7\n",
       "566590      3\n",
       "1078994    17\n",
       "1873258    16\n",
       "1714023     7\n",
       "1798901     2\n",
       "1030190     2\n",
       "469436      7\n",
       "1775582     1\n",
       "           ..\n",
       "1127949    12\n",
       "956647      7\n",
       "534590      2\n",
       "88094      17\n",
       "1795181     2\n",
       "835771     17\n",
       "785598      2\n",
       "438101      4\n",
       "1365823    16\n",
       "1073953    17\n",
       "794450      2\n",
       "1834567     3\n",
       "1844634    17\n",
       "1004713     1\n",
       "1285642     2\n",
       "1461525     6\n",
       "568503      3\n",
       "711203      6\n",
       "1365992    16\n",
       "1272820     1\n",
       "361158     17\n",
       "1369101    16\n",
       "1629283    12\n",
       "554153      3\n",
       "1586359    17\n",
       "25388       2\n",
       "1140525     4\n",
       "1274172     1\n",
       "188155      6\n",
       "40438       2\n",
       "Name: 1, Length: 485718, dtype: int64"
      ]
     },
     "execution_count": 96,
     "metadata": {},
     "output_type": "execute_result"
    }
   ],
   "source": [
    "Y_test"
   ]
  },
  {
   "cell_type": "code",
   "execution_count": 99,
   "metadata": {},
   "outputs": [
    {
     "name": "stdout",
     "output_type": "stream",
     "text": [
      "2\n",
      "2\n"
     ]
    }
   ],
   "source": [
    "print(y_test[43602])\n",
    "print(y_test[787813])\n",
    "\n"
   ]
  },
  {
   "cell_type": "code",
   "execution_count": 85,
   "metadata": {
    "scrolled": true
   },
   "outputs": [
    {
     "data": {
      "text/plain": [
       "(485718, 15)"
      ]
     },
     "execution_count": 85,
     "metadata": {},
     "output_type": "execute_result"
    }
   ],
   "source": [
    "X_test.shape"
   ]
  },
  {
   "cell_type": "code",
   "execution_count": 92,
   "metadata": {},
   "outputs": [
    {
     "data": {
      "text/html": [
       "<div>\n",
       "<style scoped>\n",
       "    .dataframe tbody tr th:only-of-type {\n",
       "        vertical-align: middle;\n",
       "    }\n",
       "\n",
       "    .dataframe tbody tr th {\n",
       "        vertical-align: top;\n",
       "    }\n",
       "\n",
       "    .dataframe thead th {\n",
       "        text-align: right;\n",
       "    }\n",
       "</style>\n",
       "<table border=\"1\" class=\"dataframe\">\n",
       "  <thead>\n",
       "    <tr style=\"text-align: right;\">\n",
       "      <th></th>\n",
       "      <th>0</th>\n",
       "      <th>1</th>\n",
       "      <th>2</th>\n",
       "      <th>3</th>\n",
       "      <th>4</th>\n",
       "      <th>5</th>\n",
       "      <th>6</th>\n",
       "      <th>7</th>\n",
       "      <th>8</th>\n",
       "      <th>9</th>\n",
       "      <th>10</th>\n",
       "      <th>11</th>\n",
       "      <th>12</th>\n",
       "      <th>13</th>\n",
       "      <th>14</th>\n",
       "    </tr>\n",
       "  </thead>\n",
       "  <tbody>\n",
       "    <tr>\n",
       "      <th>1306595</th>\n",
       "      <td>-0.754126</td>\n",
       "      <td>1.385205</td>\n",
       "      <td>3.131709</td>\n",
       "      <td>-0.578414</td>\n",
       "      <td>0.776814</td>\n",
       "      <td>1.248185</td>\n",
       "      <td>1.799853</td>\n",
       "      <td>-0.807187</td>\n",
       "      <td>0.509279</td>\n",
       "      <td>0.214607</td>\n",
       "      <td>-0.140136</td>\n",
       "      <td>0.25049</td>\n",
       "      <td>0.024317</td>\n",
       "      <td>-0.583289</td>\n",
       "      <td>-0.419205</td>\n",
       "    </tr>\n",
       "  </tbody>\n",
       "</table>\n",
       "</div>"
      ],
      "text/plain": [
       "               0         1         2         3         4         5         6   \\\n",
       "1306595 -0.754126  1.385205  3.131709 -0.578414  0.776814  1.248185  1.799853   \n",
       "\n",
       "               7         8         9         10       11        12        13  \\\n",
       "1306595 -0.807187  0.509279  0.214607 -0.140136  0.25049  0.024317 -0.583289   \n",
       "\n",
       "               14  \n",
       "1306595 -0.419205  "
      ]
     },
     "execution_count": 92,
     "metadata": {},
     "output_type": "execute_result"
    }
   ],
   "source": [
    "#data = X_test.iloc['1306595']\n",
    "\n",
    "X_test.loc[[1306595]]"
   ]
  },
  {
   "cell_type": "code",
   "execution_count": 101,
   "metadata": {},
   "outputs": [
    {
     "data": {
      "text/plain": [
       "1522202     1\n",
       "772589      1\n",
       "754269      1\n",
       "1516961     1\n",
       "1266903     1\n",
       "504536      1\n",
       "1274671     1\n",
       "1005902     1\n",
       "1271805     1\n",
       "1770790     1\n",
       "984640      1\n",
       "1505632     1\n",
       "1769691     1\n",
       "752666      1\n",
       "1526671     1\n",
       "762418      1\n",
       "1508071     1\n",
       "1508449     1\n",
       "1779978     1\n",
       "272737      1\n",
       "985326      1\n",
       "270824      1\n",
       "16172       1\n",
       "984510      1\n",
       "1508604     1\n",
       "519027      1\n",
       "1262173     1\n",
       "522364      1\n",
       "287593      1\n",
       "1271092     1\n",
       "           ..\n",
       "1504166    24\n",
       "1247638    24\n",
       "1492318    24\n",
       "1251465    24\n",
       "1252845    24\n",
       "1499561    24\n",
       "1755603    24\n",
       "260232     24\n",
       "267342     24\n",
       "1253005    24\n",
       "1756435    24\n",
       "1762051    24\n",
       "1767912    24\n",
       "1495580    24\n",
       "263279     24\n",
       "1504028    24\n",
       "262721     24\n",
       "263582     24\n",
       "1766885    24\n",
       "258849     24\n",
       "255585     24\n",
       "1755572    24\n",
       "1767333    24\n",
       "266173     24\n",
       "1764867    24\n",
       "256732     24\n",
       "257627     24\n",
       "259287     24\n",
       "257989     24\n",
       "265984     24\n",
       "Name: 1, Length: 485718, dtype: int64"
      ]
     },
     "execution_count": 101,
     "metadata": {},
     "output_type": "execute_result"
    }
   ],
   "source": [
    "Y_test.sort_values(ascending=True)"
   ]
  },
  {
   "cell_type": "code",
   "execution_count": null,
   "metadata": {},
   "outputs": [],
   "source": []
  }
 ],
 "metadata": {
  "kernelspec": {
   "display_name": "Python 3",
   "language": "python",
   "name": "python3"
  },
  "language_info": {
   "codemirror_mode": {
    "name": "ipython",
    "version": 3
   },
   "file_extension": ".py",
   "mimetype": "text/x-python",
   "name": "python",
   "nbconvert_exporter": "python",
   "pygments_lexer": "ipython3",
   "version": "3.7.1"
  }
 },
 "nbformat": 4,
 "nbformat_minor": 2
}
